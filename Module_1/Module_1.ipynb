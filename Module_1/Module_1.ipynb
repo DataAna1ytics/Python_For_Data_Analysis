{
 "cells": [
  {
   "cell_type": "markdown",
   "metadata": {},
   "source": [
    "# Unit 01\n",
    "* part 1\n",
    "* part 3\n",
    "\n"
   ]
  },
  {
   "cell_type": "markdown",
   "metadata": {},
   "source": [
    "### Работает с кодом \n",
    "* с таблицами \n",
    "* с графиками"
   ]
  },
  {
   "cell_type": "code",
   "execution_count": null,
   "metadata": {},
   "outputs": [],
   "source": [
    "    import pandas as pd\n",
    "    %matprodlib inline\n",
    "    \n",
    "    "
   ]
  },
  {
   "cell_type": "code",
   "execution_count": 3,
   "metadata": {},
   "outputs": [],
   "source": [
    "import requests\n",
    "from bs4 import BeautifulSoup"
   ]
  },
  {
   "cell_type": "markdown",
   "metadata": {},
   "source": [
    "### Наглядная работа с кодом и таблицами\n",
    "\n",
    "#### В том числе больших размеров"
   ]
  },
  {
   "cell_type": "code",
   "execution_count": null,
   "metadata": {},
   "outputs": [],
   "source": [
    "channel1 = pd.read_csv('channel_1_data.txt', sep = '\\t')"
   ]
  },
  {
   "cell_type": "code",
   "execution_count": null,
   "metadata": {},
   "outputs": [],
   "source": [
    "channel1.head()"
   ]
  },
  {
   "cell_type": "markdown",
   "metadata": {},
   "source": [
    "#### Группировка по столбцам"
   ]
  },
  {
   "cell_type": "code",
   "execution_count": null,
   "metadata": {},
   "outputs": [],
   "source": [
    "grouped = channel1.groupby('region').count()\n",
    "grouped"
   ]
  },
  {
   "cell_type": "markdown",
   "metadata": {},
   "source": [
    "#### Быстрая визуализация данных"
   ]
  },
  {
   "cell_type": "code",
   "execution_count": null,
   "metadata": {},
   "outputs": [],
   "source": [
    "grouped['tel'].plot(kind = 'bar')"
   ]
  },
  {
   "cell_type": "markdown",
   "metadata": {},
   "source": [
    "#### Построение сводных таблиц"
   ]
  },
  {
   "cell_type": "code",
   "execution_count": null,
   "metadata": {},
   "outputs": [],
   "source": [
    "pivotTable = pd.pivot_table( channel1, index = ['region', 'city'], aggfunc = 'count')\n",
    "pivotTable"
   ]
  },
  {
   "cell_type": "markdown",
   "metadata": {},
   "source": [
    "#### Объединение данных из разных таблиц (аналог SQL JOIN)"
   ]
  },
  {
   "cell_type": "code",
   "execution_count": null,
   "metadata": {},
   "outputs": [],
   "source": [
    "channel2 = pd.read_csv('channel_2_data.txt', sep = '\\t')"
   ]
  },
  {
   "cell_type": "markdown",
   "metadata": {},
   "source": [
    "#### Удаление дубликатов"
   ]
  },
  {
   "cell_type": "code",
   "execution_count": null,
   "metadata": {},
   "outputs": [],
   "source": [
    "channel1.drop_duplicates( subset = 'tel', keep = 'first', implace = True)\n",
    "channel2.drop_duplicates( subset = 'tel', keep = 'first', implace = True)"
   ]
  },
  {
   "cell_type": "markdown",
   "metadata": {},
   "source": [
    "#### Сколько времени займет построение пересечения этих таблиц?"
   ]
  },
  {
   "cell_type": "code",
   "execution_count": null,
   "metadata": {},
   "outputs": [],
   "source": [
    "%%time\n",
    "#объединяем по телефонам и оставляем общие элементы\n",
    "joined = channel1.merge( channel2, on = ' tel', how = 'inner')\n",
    "joined.head()"
   ]
  },
  {
   "cell_type": "markdown",
   "metadata": {},
   "source": [
    "#### Большие файлы"
   ]
  },
  {
   "cell_type": "code",
   "execution_count": null,
   "metadata": {},
   "outputs": [],
   "source": [
    "data = pd.read_csv( 'ratings.csv')\n",
    "data.head()"
   ]
  },
  {
   "cell_type": "code",
   "execution_count": null,
   "metadata": {},
   "outputs": [],
   "source": [
    "data.info()"
   ]
  },
  {
   "cell_type": "code",
   "execution_count": null,
   "metadata": {},
   "outputs": [],
   "source": [
    "%%time\n",
    "\n",
    "#Фильмы с максимальным рейтингом\n",
    "data.groupby( ['movieId']).mean()['rating'].sort_value(ascending = False)"
   ]
  },
  {
   "cell_type": "markdown",
   "metadata": {},
   "source": [
    "### Быстрые вычисления"
   ]
  },
  {
   "cell_type": "markdown",
   "metadata": {},
   "source": [
    "#### Основные алгоритмы оптимизации вычислений"
   ]
  },
  {
   "cell_type": "markdown",
   "metadata": {},
   "source": [
    "##### Загрузим два списка по 10 миллионов ID в каждом"
   ]
  },
  {
   "cell_type": "code",
   "execution_count": null,
   "metadata": {},
   "outputs": [],
   "source": [
    "with open( 'orders_1_data.txt', 'r') as f:\n",
    "    orders_ids_1 = [ line.strip() for line in f ]"
   ]
  },
  {
   "cell_type": "code",
   "execution_count": null,
   "metadata": {},
   "outputs": [],
   "source": [
    "with open( 'orders_2_data.txt', 'r') as f:\n",
    "    orders_ids_2 = [ line.strip() for line in f ]"
   ]
  },
  {
   "cell_type": "markdown",
   "metadata": {},
   "source": [
    "#### Можно посмотреть любой элемент листа"
   ]
  },
  {
   "cell_type": "code",
   "execution_count": null,
   "metadata": {},
   "outputs": [],
   "source": [
    "#первые пять элементов\n",
    "\n",
    "order_ids_1[:5]"
   ]
  },
  {
   "cell_type": "code",
   "execution_count": null,
   "metadata": {},
   "outputs": [],
   "source": [
    "#элементы в районе 20 тысяч\n",
    "\n",
    "order_ids_2[20000:20020]"
   ]
  },
  {
   "cell_type": "code",
   "execution_count": null,
   "metadata": {},
   "outputs": [],
   "source": [
    "#сколько всего ID\n",
    "\n",
    "len(order_ids_1), len(order_ids_2)"
   ]
  },
  {
   "cell_type": "markdown",
   "metadata": {},
   "source": [
    "#### Элементы, которые есть в первом, но нет во втором"
   ]
  },
  {
   "cell_type": "markdown",
   "metadata": {},
   "source": [
    "#для оптимизацмм поиска переводим второй список в кортеж\n",
    "\n",
    "ids_set_2 = set( order_ids_2 )"
   ]
  },
  {
   "cell_type": "code",
   "execution_count": null,
   "metadata": {},
   "outputs": [],
   "source": [
    "unique_for_1 = []\n",
    "\n",
    "i = 1"
   ]
  },
  {
   "cell_type": "markdown",
   "metadata": {},
   "source": [
    "#### Каждые 500 тыс строк выводим на экран"
   ]
  },
  {
   "cell_type": "code",
   "execution_count": null,
   "metadata": {},
   "outputs": [],
   "source": [
    "%%time\n",
    "\n",
    "for element in order_ids_1:\n",
    "    if element not in ids_set_2:\n",
    "        unique_for_1.append( element )\n",
    "    \n",
    "    if i % 500000 == 0:\n",
    "        print( i )\n",
    "        \n",
    "    i += 1"
   ]
  },
  {
   "cell_type": "code",
   "execution_count": null,
   "metadata": {},
   "outputs": [],
   "source": [
    "len( unique_for_1 )"
   ]
  },
  {
   "cell_type": "markdown",
   "metadata": {},
   "source": [
    "### Удобный парсинг страниц"
   ]
  },
  {
   "cell_type": "code",
   "execution_count": 4,
   "metadata": {},
   "outputs": [],
   "source": [
    "url = 'https://nplus1.ru/news/2020/04/03/starship-sn3-fail'"
   ]
  },
  {
   "cell_type": "code",
   "execution_count": 5,
   "metadata": {},
   "outputs": [],
   "source": [
    "soup = BeautifulSoup( requests.get( url ).text, 'html.parser')"
   ]
  },
  {
   "cell_type": "markdown",
   "metadata": {},
   "source": [
    "#### Заголовок"
   ]
  },
  {
   "cell_type": "code",
   "execution_count": 6,
   "metadata": {},
   "outputs": [
    {
     "data": {
      "text/plain": [
       "<title>Прототип ракеты Starship разрушился во время опрессовочных испытаний</title>"
      ]
     },
     "execution_count": 6,
     "metadata": {},
     "output_type": "execute_result"
    }
   ],
   "source": [
    "soup.title"
   ]
  },
  {
   "cell_type": "code",
   "execution_count": 7,
   "metadata": {},
   "outputs": [
    {
     "data": {
      "text/plain": [
       "'Прототип ракеты Starship разрушился во время опрессовочных испытаний'"
      ]
     },
     "execution_count": 7,
     "metadata": {},
     "output_type": "execute_result"
    }
   ],
   "source": [
    "soup.title.string"
   ]
  },
  {
   "cell_type": "code",
   "execution_count": 8,
   "metadata": {},
   "outputs": [
    {
     "data": {
      "text/plain": [
       "'\\n\\n\\n\\n\\n\\nNASASpaceFlight / YouTube\\n\\n\\n\\n\\n\\nКомпания SpaceX провела неудачную опрессовку прототипа SN3 второй ступени ракеты Starship: после накачки одного из\\xa0топливных баков жидким азотом корпус ракеты деформировался, а\\xa0затем распался на\\xa0две части, из-за чего весь аппарат был фактически уничтожен. Момент разрушения ракеты можно увидеть в\\xa0трансляции NASASpaceFlight.\\nStarship\\xa0— это перспективная сверхтяжелая ракета-носитель, которую SpaceX\\xa0в том или ином виде разрабатывает уже несколько лет и\\xa0планирует использовать в\\xa0качестве замены для ракет Falcon 9\\xa0и\\xa0Falcon Heavy. Она имеет двухступенчатую конструкцию, в\\xa0которой вторая ступень одновременно выступает в\\xa0качестве космического корабля, и\\xa0будет полностью многоразовой за\\xa0счет того, что обе ступени смогут совершать посадку после выхода на\\xa0орбиту. Starship будет работать на\\xa0метан-кислородных двигателях Raptor, причем компания планирует оснащать вторую ступень возможностью дозаправки на\\xa0орбите, чтобы значительно увеличить ее\\xa0грузоподъемность при межпланетных полетах. Согласно текущей версии документации, без дозаправки Starship сможет выводить груз массой более ста тонн на\\xa0низкую околоземную орбиту и\\xa021\\xa0тонну на\\xa0геопереходную.\\nПри создании Starship SpaceX отказалась от\\xa0традиционного подхода конструкторских работ. Это привело к\\xa0тому, что уже после оглашения проекта компания многократно меняла основные параметры ракеты, такие как грузоподъемность и\\xa0материал корпуса, а\\xa0также на\\xa0раннем этапе приступила к\\xa0созданию и\\xa0испытанию промежуточных прототипов, чтобы на\\xa0практике проверить эффективность и\\xa0реализуемость технических решений. Более того, над прототипами работают отдельные автономные команды инженеров для того, чтобы каждая из\\xa0них могла применять на\\xa0своих прототипах разные решения, и\\xa0в\\xa0итоге найти оптимальную конфигурацию для проекта в\\xa0целом.\\nОднако подход с\\xa0неопределенным обликом проекта и\\xa0ранним созданием прототипов привел к\\xa0уже нескольким авариям, последняя из\\xa0которых случилась 3\\xa0апреля на\\xa0испытательной площадке космодрома SpaceX\\xa0в Техасе. В\\xa0испытаниях участвовал прототип SN3. Перед тем, как приступить к\\xa0испытаниям двигателей и\\xa0полетам, SpaceX планировала проверить топливные баки аппарата на\\xa0устойчивость к\\xa0давлениям и\\xa0температурам, типичным для полета. Во\\xa0время таких испытаний в\\xa0баки подается не\\xa0топливо и\\xa0окислитель, потому что это опасно, а\\xa0азот, который в\\xa0случае разрушения баков не\\xa0может загореться. В\\xa0этих испытаниях в\\xa0верхний бак, предназначенный для жидкого кислорода, был закачан жидкий азот, а\\xa0нижний бак был накачан азотом с\\xa0обычной температурой.\\n\\nВ\\xa0конце испытаний стальной корпус ракеты начал деформироваться во\\xa0множестве мест в\\xa0области, которая расположены примерно между двумя баками. После этого часть корпуса над областью деформации начала наклоняться и\\xa0упала на\\xa0площадку. После аварии Илон Маск заявил, что пока инженеры проводят анализ данных, но\\xa0предварительно сказал, что причиной могла стать ошибка в\\xa0параметрах испытаний.\\n\\nОт редактора\\n\\n        Судя по тому, что сложилась только определенная и относительно узкая часть корпуса, а также тому, как именно она деформировалась, можно предположить, что оба бака в этот момент остались целыми, но корпус не выдержал давление верхнего бака, заполненного жидким азотом.\\n    \\n\\nПоделиться\\n\\n\\n\\n\\n\\n\\n\\n\\n\\n\\nПомимо разрушенного прототипа SN3\\xa0у SpaceX есть частично собранный прототип SN4, который пока не\\xa0приступил к\\xa0испытаниям. Неизвестно, как авария повлияет на\\xa0дальнейшее развитие проекта, но\\xa0ранее Маск заявлял, что SpaceX планирует отправить прототип Starship на\\xa0орбиту в\\xa0течение 2020\\xa0года.\\nНесмотря на\\xa0то, что Starship должен в\\xa0конечном итоге заменить все другие ракеты и\\xa0космические корабли SpaceX, компания продолжает развивать текущие проекты. Например, недавно NASA поручило SpaceX доставлять грузы на\\xa0будущую окололунную станцию Gateway, для чего компания планирует использовать ракету Falcon Heavy и\\xa0новый грузовой космический корабль Dragon XL.\\nГригорий Копиев\\n'"
      ]
     },
     "execution_count": 8,
     "metadata": {},
     "output_type": "execute_result"
    }
   ],
   "source": [
    "soup.find('div', attrs={'class': 'body js-mediator-article'}).get_text()\n",
    "#soup.find(\"div\", { \"class\" : 'body js-mediator-article' }).text.strip()"
   ]
  },
  {
   "cell_type": "code",
   "execution_count": 9,
   "metadata": {},
   "outputs": [
    {
     "name": "stdout",
     "output_type": "stream",
     "text": [
      "https://www.youtube.com/watch?v=wFXQ5SRCy74\n",
      "https://www.spacex.com/sites/spacex/files/starship_users_guide_v1.pdf\n",
      "https://nplus1.ru/news/2019/05/15/starship\n",
      "https://nplus1.ru/news/2020/03/02/pressurization\n",
      "https://twitter.com/elonmusk/status/1246002903480856576\n",
      "https://nplus1.ru/news/2020/03/28/spacex-gateway\n"
     ]
    }
   ],
   "source": [
    "for link in soup.find(\"div\", { \"class\" : 'body js-mediator-article' }).find_all('a'):\n",
    "    print(link.get('href'))"
   ]
  },
  {
   "cell_type": "markdown",
   "metadata": {},
   "source": [
    "# Unit 2"
   ]
  },
  {
   "cell_type": "markdown",
   "metadata": {},
   "source": [
    "### Расчет индеса массы тела (BMI)"
   ]
  },
  {
   "cell_type": "code",
   "execution_count": null,
   "metadata": {},
   "outputs": [],
   "source": [
    "# weight and height\n",
    "weight_kg = 53;\n",
    "height_cm = 168;"
   ]
  },
  {
   "cell_type": "code",
   "execution_count": null,
   "metadata": {},
   "outputs": [],
   "source": [
    "height_m = height_cm / 100;"
   ]
  },
  {
   "cell_type": "code",
   "execution_count": null,
   "metadata": {},
   "outputs": [],
   "source": [
    "body_mass_index = weight_kg / height_m**2;"
   ]
  },
  {
   "cell_type": "code",
   "execution_count": null,
   "metadata": {},
   "outputs": [],
   "source": [
    "print('Body mass index: {:.1f}'.format(body_mass_index))"
   ]
  },
  {
   "cell_type": "markdown",
   "metadata": {},
   "source": [
    "## Unit 4"
   ]
  },
  {
   "cell_type": "code",
   "execution_count": null,
   "metadata": {},
   "outputs": [],
   "source": [
    "file_string = \"003_logs_2017-11-03;001_logs_2017-11-01;005_logs_2017-11-05;002_logs_2017-11-02;004_logs_2017-11-04\";"
   ]
  },
  {
   "cell_type": "code",
   "execution_count": null,
   "metadata": {},
   "outputs": [],
   "source": [
    "file_list = file_string.split(';');"
   ]
  },
  {
   "cell_type": "code",
   "execution_count": null,
   "metadata": {},
   "outputs": [],
   "source": [
    "file_list_sorted = sorted(file_list);"
   ]
  },
  {
   "cell_type": "code",
   "execution_count": null,
   "metadata": {},
   "outputs": [],
   "source": [
    "file_list_sorted.append('006_logs_2017-11-06');"
   ]
  },
  {
   "cell_type": "markdown",
   "metadata": {},
   "source": [
    "## Unit 5"
   ]
  },
  {
   "cell_type": "code",
   "execution_count": 10,
   "metadata": {},
   "outputs": [],
   "source": [
    "queries_string = 'сериалы о дружбе,игры на двоих,курсы по питону,романтические сериалы,как сделать торт,сериалы о подростках,заказать еду,скачать музыку';"
   ]
  },
  {
   "cell_type": "code",
   "execution_count": 11,
   "metadata": {},
   "outputs": [],
   "source": [
    "queries_list = queries_string.split(',');"
   ]
  },
  {
   "cell_type": "code",
   "execution_count": 12,
   "metadata": {},
   "outputs": [
    {
     "name": "stdout",
     "output_type": "stream",
     "text": [
      "['сериалы о дружбе', 'романтические сериалы', 'сериалы о подростках']\n"
     ]
    }
   ],
   "source": [
    "series = [item for item in queries_list if 'сериалы' in item]\n",
    "print(series)"
   ]
  },
  {
   "cell_type": "markdown",
   "metadata": {},
   "source": [
    "### Преобразование списка в строчку\n"
   ]
  },
  {
   "cell_type": "code",
   "execution_count": 13,
   "metadata": {},
   "outputs": [
    {
     "name": "stdout",
     "output_type": "stream",
     "text": [
      "сериалы о дружбе\tромантические сериалы\tсериалы о подростках\n"
     ]
    }
   ],
   "source": [
    "print('\\t'.join(series))"
   ]
  },
  {
   "cell_type": "code",
   "execution_count": null,
   "metadata": {},
   "outputs": [],
   "source": [
    "file_string_join = '||'.join(file_list_sorted)"
   ]
  },
  {
   "cell_type": "markdown",
   "metadata": {},
   "source": [
    "### Отбор элементов"
   ]
  },
  {
   "cell_type": "code",
   "execution_count": 14,
   "metadata": {},
   "outputs": [],
   "source": [
    "sequence = ['Google Adwords', 'Yandex Direct', 'Facebook', 'VK', 'Partner'];"
   ]
  },
  {
   "cell_type": "code",
   "execution_count": 15,
   "metadata": {},
   "outputs": [
    {
     "name": "stdout",
     "output_type": "stream",
     "text": [
      "['Facebook', 'VK']\n"
     ]
    }
   ],
   "source": [
    "print(sequence[-3:4])"
   ]
  },
  {
   "cell_type": "code",
   "execution_count": 16,
   "metadata": {},
   "outputs": [
    {
     "name": "stdout",
     "output_type": "stream",
     "text": [
      "['Yandex Direct', 'Facebook']\n"
     ]
    }
   ],
   "source": [
    "print(sequence[-4:3])"
   ]
  },
  {
   "cell_type": "code",
   "execution_count": 17,
   "metadata": {},
   "outputs": [],
   "source": [
    "justNumbers = [1, 2, 3, 4, 5, 6, 7, 8, 9, 10];"
   ]
  },
  {
   "cell_type": "code",
   "execution_count": 18,
   "metadata": {},
   "outputs": [
    {
     "name": "stdout",
     "output_type": "stream",
     "text": [
      "[1, 3, 5]\n"
     ]
    }
   ],
   "source": [
    "print(justNumbers[0:5:2])"
   ]
  },
  {
   "cell_type": "markdown",
   "metadata": {},
   "source": [
    "## Unit 6"
   ]
  },
  {
   "cell_type": "code",
   "execution_count": 19,
   "metadata": {},
   "outputs": [
    {
     "name": "stdout",
     "output_type": "stream",
     "text": [
      "['Молоко обезжиренное 1 50', 'Хлеб бородинский 2 71', 'Яблоки сезонные 0.5 44', 'Печенье овсяное 1 30', 'Яйца десяток высший сорт 1 50', 'Мука пшеничная второй сорт 1 60', 'Йогурт с малиной 2 50', 'Творог 3% 3 90', 'Огурцы гладкие 0.7 76', 'Сырок творожный 2 30']\n"
     ]
    }
   ],
   "source": [
    "shopList_string = \"Молоко обезжиренное 1 50,Хлеб бородинский 2 71,Яблоки сезонные 0.5 44,Печенье овсяное 1 30,Яйца десяток высший сорт 1 50,Мука пшеничная второй сорт 1 60,Йогурт с малиной 2 50,Творог 3% 3 90,Огурцы гладкие 0.7 76,Сырок творожный 2 30\";\n",
    "shopList = shopList_string.split(',');\n",
    "print(shopList)"
   ]
  },
  {
   "cell_type": "code",
   "execution_count": 20,
   "metadata": {},
   "outputs": [
    {
     "data": {
      "text/plain": [
       "[4, 4, 6, 6]"
      ]
     },
     "execution_count": 20,
     "metadata": {},
     "output_type": "execute_result"
    }
   ],
   "source": [
    "wordLenghtCount = [len(x.split(' ')) for x in shopList if '1 ' in x];\n",
    "wordLenghtCount"
   ]
  },
  {
   "cell_type": "code",
   "execution_count": 23,
   "metadata": {},
   "outputs": [
    {
     "data": {
      "text/plain": [
       "{4: 2, 6: 2}"
      ]
     },
     "execution_count": 23,
     "metadata": {},
     "output_type": "execute_result"
    }
   ],
   "source": [
    "{i: wordLenghtCount.count(i) for i in wordLenghtCount}"
   ]
  },
  {
   "cell_type": "code",
   "execution_count": 24,
   "metadata": {},
   "outputs": [
    {
     "name": "stdout",
     "output_type": "stream",
     "text": [
      "0\n",
      "400\n",
      "1600\n",
      "3600\n",
      "6400\n"
     ]
    }
   ],
   "source": [
    "for i in range(0,100,20):\n",
    "    print(i**2)"
   ]
  },
  {
   "cell_type": "code",
   "execution_count": 25,
   "metadata": {},
   "outputs": [],
   "source": [
    "weekdays = ['monday', 'tuesday','wednesday', 'thursday','friday', 'saturday'];"
   ]
  },
  {
   "cell_type": "code",
   "execution_count": 26,
   "metadata": {},
   "outputs": [
    {
     "name": "stdout",
     "output_type": "stream",
     "text": [
      "Today is monday\n",
      "Today is tuesday\n",
      "Today is wednesday\n",
      "Today is thursday\n",
      "Today is friday\n",
      "Today is saturday\n"
     ]
    }
   ],
   "source": [
    "for day in weekdays:\n",
    "    print(\"Today is {}\".format(day))"
   ]
  },
  {
   "cell_type": "code",
   "execution_count": 27,
   "metadata": {},
   "outputs": [],
   "source": [
    "direct_revenue = [78567, 76666, 132123, 98567, 45009, 67982, 88099, 88777, 102090, 97421, 97111, 98012, 60670, 34888, 55708, 65900, 98989, 80800, 101234, 101788, 120000, 102000];"
   ]
  },
  {
   "cell_type": "code",
   "execution_count": 29,
   "metadata": {},
   "outputs": [],
   "source": [
    "mean_revenue = sum(direct_revenue[:7])/7"
   ]
  },
  {
   "cell_type": "code",
   "execution_count": 30,
   "metadata": {},
   "outputs": [],
   "source": [
    "minVal = 4\n",
    "maxVal = 20"
   ]
  },
  {
   "cell_type": "code",
   "execution_count": 31,
   "metadata": {},
   "outputs": [
    {
     "data": {
      "text/plain": [
       "[2.0,\n",
       " 2.449489742783178,\n",
       " 2.8284271247461903,\n",
       " 3.1622776601683795,\n",
       " 3.4641016151377544,\n",
       " 3.7416573867739413,\n",
       " 4.0,\n",
       " 4.242640687119285]"
      ]
     },
     "execution_count": 31,
     "metadata": {},
     "output_type": "execute_result"
    }
   ],
   "source": [
    "NumList = [(i**0.5) for i in range(minVal, maxVal, 2)]\n",
    "NumList"
   ]
  },
  {
   "cell_type": "code",
   "execution_count": 32,
   "metadata": {},
   "outputs": [
    {
     "data": {
      "text/plain": [
       "45"
      ]
     },
     "execution_count": 32,
     "metadata": {},
     "output_type": "execute_result"
    }
   ],
   "source": [
    "sum([len(x.split(' ')) for x in shopList])"
   ]
  },
  {
   "cell_type": "markdown",
   "metadata": {},
   "source": [
    "## Unit 7"
   ]
  },
  {
   "cell_type": "code",
   "execution_count": null,
   "metadata": {},
   "outputs": [],
   "source": [
    "vis_VK = 1500;\n",
    "order_VK = 14;\n",
    "vis_FB = 2200;\n",
    "order_FB = 17;\n",
    "conv_VK = order_VK/vis_VK;\n",
    "conv_FB = order_FB/vis_FB;\n",
    "if (conv_VK > conv_FB):\n",
    "    print('VK conversion is higher')\n",
    "elif (conv_VK < conv_FB):\n",
    "    print('Facebook conversion is higher')\n",
    "else:\n",
    "    print('VK and Facebook conversions are equal')"
   ]
  },
  {
   "cell_type": "markdown",
   "metadata": {},
   "source": [
    "### Поиск элемента списка в строке"
   ]
  },
  {
   "cell_type": "code",
   "execution_count": 33,
   "metadata": {},
   "outputs": [
    {
     "data": {
      "text/plain": [
       "['питон', 'Монти', 'честь', 'шоу']"
      ]
     },
     "execution_count": 33,
     "metadata": {},
     "output_type": "execute_result"
    }
   ],
   "source": [
    "text = 'Название языка питон произошло вовсе не от вида пресмыкающихся. Автор назвал язык в честь популярного британского комедийного телешоу 1970-х Летающий цирк Монти Пайтона';\n",
    "words_to_find = ['питон', 'Монти', 'проверка', 'честь', 'шоу', 'драма']\n",
    "[word for word in words_to_find if word in text]"
   ]
  },
  {
   "cell_type": "markdown",
   "metadata": {},
   "source": [
    "## Unit 8"
   ]
  },
  {
   "cell_type": "code",
   "execution_count": 37,
   "metadata": {},
   "outputs": [
    {
     "data": {
      "text/plain": [
       "'смотреть сериалы онлайн,курс доллара,сериалы этим летом,курс по питону,сериалы про спорт'"
      ]
     },
     "execution_count": 37,
     "metadata": {},
     "output_type": "execute_result"
    }
   ],
   "source": [
    "queries = 'смотреть сериалы онлайн,новости спорта,афиша кино,курс доллара,сериалы этим летом,курс по питону,сериалы про спорт'\n",
    "words = ['сериалы', 'курс']\n",
    "result=str('')\n",
    "for query in queries.split(','):\n",
    "    if (words[0] in query) or (words[1] in query):\n",
    "        result+='{},'.format(query)\n",
    "result = result[:-1]\n",
    "result"
   ]
  },
  {
   "cell_type": "code",
   "execution_count": null,
   "metadata": {},
   "outputs": [],
   "source": []
  }
 ],
 "metadata": {
  "kernelspec": {
   "display_name": "Python 3",
   "language": "python",
   "name": "python3"
  },
  "language_info": {
   "codemirror_mode": {
    "name": "ipython",
    "version": 3
   },
   "file_extension": ".py",
   "mimetype": "text/x-python",
   "name": "python",
   "nbconvert_exporter": "python",
   "pygments_lexer": "ipython3",
   "version": "3.7.6"
  }
 },
 "nbformat": 4,
 "nbformat_minor": 4
}
