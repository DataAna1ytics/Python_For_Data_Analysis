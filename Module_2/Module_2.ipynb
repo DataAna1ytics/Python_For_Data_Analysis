{
 "cells": [
  {
   "cell_type": "markdown",
   "metadata": {},
   "source": [
    "# Работа с файлами и сложными метриками\n",
    "\n",
    "\n"
   ]
  },
  {
   "cell_type": "markdown",
   "metadata": {},
   "source": [
    "# Unit 2"
   ]
  },
  {
   "cell_type": "markdown",
   "metadata": {},
   "source": [
    "## Работа с текстовыми файлами"
   ]
  },
  {
   "cell_type": "code",
   "execution_count": 3,
   "metadata": {},
   "outputs": [],
   "source": [
    "user_ids = []\n",
    "with open('user_ids.txt', 'r') as f:\n",
    "    for line in f:\n",
    "        #method strip() deletes end of line symbols\n",
    "        user_id = line.strip()\n",
    "        user_ids.append(user_id)"
   ]
  },
  {
   "cell_type": "code",
   "execution_count": 5,
   "metadata": {},
   "outputs": [
    {
     "data": {
      "text/plain": [
       "['1010', '1036', '1041', '1041', '1042']"
      ]
     },
     "execution_count": 5,
     "metadata": {},
     "output_type": "execute_result"
    }
   ],
   "source": [
    "user_ids[:5]"
   ]
  },
  {
   "cell_type": "code",
   "execution_count": 9,
   "metadata": {},
   "outputs": [
    {
     "data": {
      "text/plain": [
       "['1424']"
      ]
     },
     "execution_count": 9,
     "metadata": {},
     "output_type": "execute_result"
    }
   ],
   "source": [
    "user_ids[-1:]"
   ]
  },
  {
   "cell_type": "code",
   "execution_count": 11,
   "metadata": {},
   "outputs": [
    {
     "data": {
      "text/plain": [
       "294"
      ]
     },
     "execution_count": 11,
     "metadata": {},
     "output_type": "execute_result"
    }
   ],
   "source": [
    "len(user_ids)"
   ]
  },
  {
   "cell_type": "code",
   "execution_count": 13,
   "metadata": {},
   "outputs": [],
   "source": [
    "unique_ids = set(user_ids)\n"
   ]
  },
  {
   "cell_type": "code",
   "execution_count": 15,
   "metadata": {},
   "outputs": [
    {
     "name": "stdout",
     "output_type": "stream",
     "text": [
      "Уникальных ID в файле 124\n"
     ]
    }
   ],
   "source": [
    "print('Уникальных ID в файле {}'.format( len(unique_ids)))"
   ]
  },
  {
   "cell_type": "markdown",
   "metadata": {},
   "source": [
    "# Unit 3"
   ]
  },
  {
   "cell_type": "markdown",
   "metadata": {},
   "source": [
    "##  Файлы с заголовками и несколькими столбцами"
   ]
  },
  {
   "cell_type": "markdown",
   "metadata": {},
   "source": [
    "### Файл с заголовком"
   ]
  },
  {
   "cell_type": "code",
   "execution_count": 17,
   "metadata": {},
   "outputs": [
    {
     "name": "stdout",
     "output_type": "stream",
     "text": [
      "1010\n",
      "1036\n",
      "1041\n",
      "1041\n",
      "1042\n",
      "1042\n",
      "1042\n",
      "1042\n",
      "1042\n",
      "1042\n",
      "1042\n",
      "1042\n",
      "1042\n",
      "1042\n",
      "1042\n",
      "1042\n",
      "1047\n",
      "1047\n",
      "1052\n",
      "1052\n",
      "1057\n",
      "1057\n",
      "1062\n",
      "1067\n",
      "1078\n",
      "1085\n",
      "1096\n",
      "1098\n",
      "1100\n",
      "1100\n",
      "1100\n",
      "1100\n",
      "1100\n",
      "1100\n",
      "1100\n",
      "1100\n",
      "1100\n",
      "1100\n",
      "1100\n",
      "1100\n",
      "1105\n",
      "1108\n",
      "1108\n",
      "1108\n",
      "1108\n",
      "1108\n",
      "1108\n",
      "1108\n",
      "1108\n",
      "1108\n",
      "1111\n",
      "1112\n",
      "1112\n",
      "1113\n",
      "1113\n",
      "1114\n",
      "1114\n",
      "1116\n",
      "1118\n",
      "1118\n",
      "1123\n",
      "1123\n",
      "1128\n",
      "1134\n",
      "1134\n",
      "1135\n",
      "1135\n",
      "1135\n",
      "1135\n",
      "1135\n",
      "1135\n",
      "1135\n",
      "1135\n",
      "1135\n",
      "1136\n",
      "1136\n",
      "1140\n",
      "1140\n",
      "1141\n",
      "1145\n",
      "1145\n",
      "1149\n",
      "1149\n",
      "1149\n",
      "1149\n",
      "1149\n",
      "1149\n",
      "1149\n",
      "1150\n",
      "1154\n",
      "1154\n",
      "1159\n",
      "1159\n",
      "1164\n",
      "1167\n",
      "1175\n",
      "1181\n",
      "1182\n",
      "1182\n",
      "1193\n",
      "1193\n",
      "1198\n",
      "1198\n",
      "1201\n",
      "1203\n",
      "1203\n",
      "1207\n",
      "1207\n",
      "1207\n",
      "1207\n",
      "1207\n",
      "1207\n",
      "1207\n",
      "1207\n",
      "1207\n",
      "1207\n",
      "1207\n",
      "1207\n",
      "1207\n",
      "1207\n",
      "1208\n",
      "1208\n",
      "1209\n",
      "1213\n",
      "1213\n",
      "1218\n",
      "1218\n",
      "1219\n",
      "1223\n",
      "1223\n",
      "1224\n",
      "1226\n",
      "1226\n",
      "1228\n",
      "1228\n",
      "1230\n",
      "1233\n",
      "1233\n",
      "1236\n",
      "1238\n",
      "1238\n",
      "1242\n",
      "1243\n",
      "1243\n",
      "1246\n",
      "1246\n",
      "1246\n",
      "1246\n",
      "1246\n",
      "1246\n",
      "1246\n",
      "1246\n",
      "1246\n",
      "1246\n",
      "1246\n",
      "1246\n",
      "1246\n",
      "1246\n",
      "1246\n",
      "1246\n",
      "1246\n",
      "1246\n",
      "1246\n",
      "1246\n",
      "1246\n",
      "1246\n",
      "1246\n",
      "1246\n",
      "1248\n",
      "1248\n",
      "1252\n",
      "1252\n",
      "1253\n",
      "1253\n",
      "1258\n",
      "1258\n",
      "1263\n",
      "1263\n",
      "1267\n",
      "1267\n",
      "1267\n",
      "1267\n",
      "1267\n",
      "1267\n",
      "1267\n",
      "1267\n",
      "1267\n",
      "1267\n",
      "1267\n",
      "1267\n",
      "1267\n",
      "1267\n",
      "1267\n",
      "1267\n",
      "1267\n",
      "1268\n",
      "1268\n",
      "1269\n",
      "1270\n",
      "1273\n",
      "1273\n",
      "1274\n",
      "1278\n",
      "1278\n",
      "1279\n",
      "1281\n",
      "1283\n",
      "1283\n",
      "1288\n",
      "1288\n",
      "1291\n",
      "1293\n",
      "1293\n",
      "1294\n",
      "1296\n",
      "1298\n",
      "1298\n",
      "1298\n",
      "1300\n",
      "1300\n",
      "1302\n",
      "1303\n",
      "1303\n",
      "1308\n",
      "1308\n",
      "1313\n",
      "1313\n",
      "1315\n",
      "1318\n",
      "1318\n",
      "1318\n",
      "1318\n",
      "1318\n",
      "1318\n",
      "1318\n",
      "1318\n",
      "1318\n",
      "1318\n",
      "1318\n",
      "1318\n",
      "1318\n",
      "1318\n",
      "1320\n",
      "1323\n",
      "1323\n",
      "1328\n",
      "1328\n",
      "1330\n",
      "1331\n",
      "1332\n",
      "1333\n",
      "1334\n",
      "1343\n",
      "1350\n",
      "1351\n",
      "1353\n",
      "1354\n",
      "1355\n",
      "1359\n",
      "1362\n",
      "1363\n",
      "1364\n",
      "1366\n",
      "1367\n",
      "1371\n",
      "1372\n",
      "1374\n",
      "1377\n",
      "1380\n",
      "1382\n",
      "1383\n",
      "1386\n",
      "1387\n",
      "1388\n",
      "1392\n",
      "1393\n",
      "1394\n",
      "1397\n",
      "1398\n",
      "1424\n",
      "1424\n",
      "1424\n",
      "1424\n",
      "1424\n",
      "1424\n",
      "1424\n",
      "1424\n",
      "1424\n",
      "1424\n",
      "1424\n",
      "1424\n",
      "1424\n",
      "1424\n",
      "1424\n"
     ]
    }
   ],
   "source": [
    "Starter = True\n",
    "with open ('user_ids_headers.txt', 'r') as f:\n",
    "    for line in f:\n",
    "        if Starter:\n",
    "            Starter = False\n",
    "        else:\n",
    "            print(line.strip())"
   ]
  },
  {
   "cell_type": "markdown",
   "metadata": {},
   "source": [
    "### Файл с несколькими столбцами"
   ]
  },
  {
   "cell_type": "code",
   "execution_count": 28,
   "metadata": {},
   "outputs": [
    {
     "name": "stdout",
     "output_type": "stream",
     "text": [
      "Current paid amount of Google seo company: 20.20\n",
      "Current paid amount of Google seo company: 42.80\n",
      "Current paid amount of Google seo company: 65.20\n",
      "Current paid amount of Google seo company: 81.80\n",
      "Current paid amount of Google seo company: 102.60\n",
      "Current paid amount of Google seo company: 125.00\n",
      "Current paid amount of Google seo company: 146.00\n",
      "Current paid amount of Google seo company: 158.20\n",
      "Current paid amount of Google seo company: 178.60\n",
      "Current paid amount of Google seo company: 194.00\n",
      "Current paid amount of Google seo company: 211.60\n",
      "Current paid amount of Google seo company: 227.60\n",
      "Current paid amount of Google seo company: 240.60\n",
      "Current paid amount of Google seo company: 254.00\n",
      "Current paid amount of Google seo company: 276.40\n"
     ]
    }
   ],
   "source": [
    "total_sum = 0\n",
    "with open('data_3_columns.txt', 'r') as f:\n",
    "    for line in f:\n",
    "        line = line.strip().split('\\t')\n",
    "        medium = line[0]\n",
    "        source = line[1]\n",
    "        amount_paid = float(line[2].replace(',','.'))\n",
    "        if (source == 'google') and (medium == 'seo'):\n",
    "            total_sum += amount_paid\n",
    "            print('Current paid amount of Google seo company: {:.2f}'.format( total_sum ))\n",
    "        #print(medium, source, amount_paid)"
   ]
  },
  {
   "cell_type": "markdown",
   "metadata": {},
   "source": [
    "# Unit 4"
   ]
  },
  {
   "cell_type": "markdown",
   "metadata": {},
   "source": [
    "## Excel-файлы"
   ]
  },
  {
   "cell_type": "markdown",
   "metadata": {},
   "source": [
    "### Библиотека openpyxl"
   ]
  },
  {
   "cell_type": "code",
   "execution_count": 2,
   "metadata": {},
   "outputs": [],
   "source": [
    "import openpyxl"
   ]
  },
  {
   "cell_type": "code",
   "execution_count": 3,
   "metadata": {},
   "outputs": [],
   "source": [
    "workbook = 'data.xlsx'\n",
    "sheetName = 'data'"
   ]
  },
  {
   "cell_type": "code",
   "execution_count": 4,
   "metadata": {},
   "outputs": [],
   "source": [
    "sheet = openpyxl.load_workbook( workbook )[sheetName]"
   ]
  },
  {
   "cell_type": "code",
   "execution_count": 5,
   "metadata": {},
   "outputs": [
    {
     "name": "stdout",
     "output_type": "stream",
     "text": [
      "(<Cell 'data'.A1>, <Cell 'data'.B1>, <Cell 'data'.C1>, <Cell 'data'.D1>, <Cell 'data'.E1>, <Cell 'data'.F1>, <Cell 'data'.G1>, <Cell 'data'.H1>, <Cell 'data'.I1>)\n"
     ]
    }
   ],
   "source": [
    "for line in sheet['A1:I1']:\n",
    "    print(line)"
   ]
  },
  {
   "cell_type": "code",
   "execution_count": 6,
   "metadata": {},
   "outputs": [
    {
     "data": {
      "text/plain": [
       "<Cell 'data'.E1>"
      ]
     },
     "execution_count": 6,
     "metadata": {},
     "output_type": "execute_result"
    }
   ],
   "source": [
    "sheet['E1']"
   ]
  },
  {
   "cell_type": "code",
   "execution_count": 13,
   "metadata": {},
   "outputs": [
    {
     "name": "stdout",
     "output_type": "stream",
     "text": [
      "Total amount is 5129.8\n"
     ]
    }
   ],
   "source": [
    "total_amount = 0\n",
    "for line in sheet['E2:I295']:\n",
    "    medium = line[0].value\n",
    "    source = line[1].value\n",
    "    amount_paid = line[4].value\n",
    "    total_amount += amount_paid\n",
    "    #print(source, medium,  amount_paid)\n",
    "print('Total amount is {}'.format(total_amount))"
   ]
  },
  {
   "cell_type": "code",
   "execution_count": 9,
   "metadata": {},
   "outputs": [
    {
     "data": {
      "text/plain": [
       "float"
      ]
     },
     "execution_count": 9,
     "metadata": {},
     "output_type": "execute_result"
    }
   ],
   "source": [
    "type(amount_paid)"
   ]
  },
  {
   "cell_type": "markdown",
   "metadata": {},
   "source": [
    "# Unit 5"
   ]
  },
  {
   "cell_type": "markdown",
   "metadata": {},
   "source": [
    "## Dictionaries"
   ]
  },
  {
   "cell_type": "code",
   "execution_count": 14,
   "metadata": {},
   "outputs": [],
   "source": [
    "total_costs = {'google': 1319, 'yandex': 1818, 'promo': 1181}"
   ]
  },
  {
   "cell_type": "code",
   "execution_count": 16,
   "metadata": {},
   "outputs": [
    {
     "data": {
      "text/plain": [
       "2500"
      ]
     },
     "execution_count": 16,
     "metadata": {},
     "output_type": "execute_result"
    }
   ],
   "source": [
    "total_costs['google'] + total_costs['promo']"
   ]
  },
  {
   "cell_type": "code",
   "execution_count": 20,
   "metadata": {},
   "outputs": [
    {
     "name": "stdout",
     "output_type": "stream",
     "text": [
      "brand source is not found in summary statistics\n"
     ]
    }
   ],
   "source": [
    "source = 'brand'\n",
    "if source in total_costs:\n",
    "    print('{} source costs amounted {} rubles'.format(source, total_costs[source]))\n",
    "else:\n",
    "    print('{} source is not found in summary statistics'.format(source))"
   ]
  },
  {
   "cell_type": "code",
   "execution_count": 21,
   "metadata": {},
   "outputs": [
    {
     "name": "stdout",
     "output_type": "stream",
     "text": [
      "google\n",
      "yandex\n",
      "promo\n"
     ]
    }
   ],
   "source": [
    "for key in total_costs.keys():\n",
    "    print(key)"
   ]
  },
  {
   "cell_type": "code",
   "execution_count": 22,
   "metadata": {},
   "outputs": [
    {
     "name": "stdout",
     "output_type": "stream",
     "text": [
      "1319\n",
      "1818\n",
      "1181\n"
     ]
    }
   ],
   "source": [
    "for value in total_costs.values():\n",
    "    print(value)"
   ]
  },
  {
   "cell_type": "code",
   "execution_count": 23,
   "metadata": {},
   "outputs": [
    {
     "name": "stdout",
     "output_type": "stream",
     "text": [
      "google 1319\n",
      "yandex 1818\n",
      "promo 1181\n"
     ]
    }
   ],
   "source": [
    "for key, value in total_costs.items():\n",
    "    print(key, value)"
   ]
  },
  {
   "cell_type": "code",
   "execution_count": 24,
   "metadata": {},
   "outputs": [],
   "source": [
    "campaign_stats = {'google': {'cost': 1000, 'clicks': 500}, 'yandex': {'cost': 1500, 'clicks': 900}}"
   ]
  },
  {
   "cell_type": "code",
   "execution_count": 25,
   "metadata": {},
   "outputs": [
    {
     "name": "stdout",
     "output_type": "stream",
     "text": [
      "Campaign google, click's cost 2.00 USD\n",
      "Campaign yandex, click's cost 1.67 USD\n"
     ]
    }
   ],
   "source": [
    "for campaign, stats in campaign_stats.items():\n",
    "    print('Campaign {}, click\\'s cost {:.2f} USD'.format(campaign, stats['cost']/stats['clicks']))"
   ]
  },
  {
   "cell_type": "code",
   "execution_count": 27,
   "metadata": {},
   "outputs": [],
   "source": [
    "users_stats_dict = {}\n",
    "#i = 0\n",
    "with open('data_no_header_module2_unit5.txt', 'r') as f:\n",
    "    for line in f:\n",
    "        line = line.strip().split('\\t')\n",
    "        current_user_id = line[2]\n",
    "        if current_user_id in users_stats_dict:\n",
    "            users_stats_dict[ current_user_id ] += 1\n",
    "        else:\n",
    "            users_stats_dict[ current_user_id ] = 1\n",
    "        #print('Current ID {}'.format( current_user_id ))\n",
    "        #print( users_stats_dict )\n",
    "        #print( '' )\n",
    "        #i += 1\n",
    "        #if i > 5:\n",
    "           # break"
   ]
  },
  {
   "cell_type": "code",
   "execution_count": 30,
   "metadata": {},
   "outputs": [
    {
     "data": {
      "text/plain": [
       "12"
      ]
     },
     "execution_count": 30,
     "metadata": {},
     "output_type": "execute_result"
    }
   ],
   "source": [
    "users_stats_dict['1042']"
   ]
  },
  {
   "cell_type": "markdown",
   "metadata": {},
   "source": [
    "# Unit 6"
   ]
  },
  {
   "cell_type": "markdown",
   "metadata": {},
   "source": [
    "## Functions"
   ]
  },
  {
   "cell_type": "code",
   "execution_count": 2,
   "metadata": {},
   "outputs": [],
   "source": [
    "def source_type_classification( source, medium ):\n",
    "    \"\"\"\n",
    "    This function classifies the sourse of thaffic \n",
    "    depending on the value of source and medium\n",
    "    \n",
    "    Returns the name of the source type according to the following rules:\n",
    "        - if source equal to 'google' or 'yandex', need to check medium:\n",
    "            - if medium is 'seo' or 'sem', need to return 'search engines seo'\n",
    "            - if medium is 'brand' - need to return 'search engines brand'\n",
    "            - for other cases need to return 'search engines undefined'\n",
    "        - if the condition is not met - return 'other'\n",
    "    \"\"\"\n",
    "    if source == 'google' or source == 'yandex':\n",
    "        if medium == 'seo' or medium == 'sem':\n",
    "            return 'search engines seo'\n",
    "        elif medium == 'brand':\n",
    "            return 'search engines brand'\n",
    "        else:\n",
    "            return 'search engines undefined'\n",
    "    else:\n",
    "        return 'other'"
   ]
  },
  {
   "cell_type": "code",
   "execution_count": 3,
   "metadata": {},
   "outputs": [
    {
     "data": {
      "text/plain": [
       "'search engines seo'"
      ]
     },
     "execution_count": 3,
     "metadata": {},
     "output_type": "execute_result"
    }
   ],
   "source": [
    "source_type_classification('google' , 'seo')"
   ]
  },
  {
   "cell_type": "code",
   "execution_count": 4,
   "metadata": {},
   "outputs": [
    {
     "data": {
      "text/plain": [
       "'search engines brand'"
      ]
     },
     "execution_count": 4,
     "metadata": {},
     "output_type": "execute_result"
    }
   ],
   "source": [
    "source_type_classification('google' , 'brand')"
   ]
  },
  {
   "cell_type": "code",
   "execution_count": 5,
   "metadata": {},
   "outputs": [],
   "source": [
    "source_type_stats = {}\n",
    "with open('data_no_header.txt', 'r') as f:\n",
    "    for line in f:\n",
    "        line = line.strip().split('\\t')\n",
    "        medium = line[4]\n",
    "        source = line[5]\n",
    "        sourceType = source_type_classification(source, medium)\n",
    "        if sourceType in source_type_stats:\n",
    "            source_type_stats[ sourceType ] += 1\n",
    "        else:\n",
    "            source_type_stats[ sourceType ] = 1"
   ]
  },
  {
   "cell_type": "code",
   "execution_count": 6,
   "metadata": {},
   "outputs": [
    {
     "data": {
      "text/plain": [
       "{'search engines seo': 168, 'other': 113, 'search engines brand': 13}"
      ]
     },
     "execution_count": 6,
     "metadata": {},
     "output_type": "execute_result"
    }
   ],
   "source": [
    "source_type_stats"
   ]
  },
  {
   "cell_type": "code",
   "execution_count": 47,
   "metadata": {},
   "outputs": [],
   "source": [
    "def source_type_classification(line):\n",
    "    \"\"\"\n",
    "    This function classifies the sourse of thaffic \n",
    "    depending on the value of source and medium\n",
    "    \n",
    "    Returns the name of the source type according to the following rules:\n",
    "        - if source equal to 'google' or 'yandex', need to check medium:\n",
    "            - if medium is 'seo' or 'sem', need to return 'search engines seo'\n",
    "            - if medium is 'brand' - need to return 'search engines brand'\n",
    "            - for other cases need to return 'search engines undefined'\n",
    "        - if the condition is not met - return 'other'\n",
    "    \"\"\"\n",
    "    sourceType = str('')\n",
    "    orderType = str('')\n",
    "    medium = line[4]\n",
    "    source = line[5]\n",
    "    amount_paid = float(line[-1].replace(',','.'))\n",
    "    if amount_paid  >= 20:\n",
    "        orderType = 'expensive'\n",
    "    else:\n",
    "        orderType = 'cheap'\n",
    "    if source == 'google' or source == 'yandex':\n",
    "        if medium == 'seo' or medium == 'sem':\n",
    "            sourceType = 'search engines seo'\n",
    "        elif medium == 'brand':\n",
    "            sourceType = 'search engines brand'\n",
    "        else:\n",
    "            sourceType = 'search engines undefined'\n",
    "    else:\n",
    "        sourceType = 'other'\n",
    "    return sourceType, orderType"
   ]
  },
  {
   "cell_type": "code",
   "execution_count": 19,
   "metadata": {},
   "outputs": [
    {
     "data": {
      "text/plain": [
       "('search engines seo', 'expensive')"
      ]
     },
     "execution_count": 19,
     "metadata": {},
     "output_type": "execute_result"
    }
   ],
   "source": [
    "source_type_classification(['40443', '05.10.2016 23:18', '1010', '0,000925926', 'seo', 'google', '0', '6243', '20,20'])"
   ]
  },
  {
   "cell_type": "code",
   "execution_count": 20,
   "metadata": {},
   "outputs": [],
   "source": [
    "source_type_stats = {}\n",
    "with open('data_no_header.txt', 'r') as f:\n",
    "    for line in f:\n",
    "        line = line.strip().split('\\t')\n",
    "        sourceType, orderType = source_type_classification(line)\n",
    "        source_order_type = sourceType + \" \"  + orderType\n",
    "        if source_order_type in source_type_stats:\n",
    "            source_type_stats[ source_order_type ] += 1\n",
    "        else:\n",
    "            source_type_stats[ source_order_type ] = 1"
   ]
  },
  {
   "cell_type": "code",
   "execution_count": 21,
   "metadata": {},
   "outputs": [
    {
     "data": {
      "text/plain": [
       "{'search engines seo expensive': 47,\n",
       " 'search engines seo cheap': 121,\n",
       " 'other cheap': 74,\n",
       " 'search engines brand expensive': 4,\n",
       " 'other expensive': 39,\n",
       " 'search engines brand cheap': 9}"
      ]
     },
     "execution_count": 21,
     "metadata": {},
     "output_type": "execute_result"
    }
   ],
   "source": [
    "source_type_stats"
   ]
  },
  {
   "cell_type": "markdown",
   "metadata": {},
   "source": [
    "# Unit 7"
   ]
  },
  {
   "cell_type": "markdown",
   "metadata": {},
   "source": [
    "## ROI calculation"
   ]
  },
  {
   "cell_type": "code",
   "execution_count": 23,
   "metadata": {},
   "outputs": [],
   "source": [
    "cpa_commission = {'burgerclub': 0.3, 'food-delivery': 0.25}\n",
    "\n",
    "cpc_commission = {'city-magazine': 7, 'foody': 9}\n",
    "\n",
    "fixed_commission = 4"
   ]
  },
  {
   "cell_type": "code",
   "execution_count": 24,
   "metadata": {},
   "outputs": [],
   "source": [
    "def costs_classification( amount_paid, source ):\n",
    "    \"\"\"\n",
    "    The function returns the size of the commission \n",
    "    depinding on name of the channel source\n",
    "    \"\"\"\n",
    "    if source in cpa_commission:\n",
    "        return amount_paid*cpa_commission[source]\n",
    "    if source in cpc_commission:\n",
    "        return cpc_commission[source]\n",
    "    return fixed_commission"
   ]
  },
  {
   "cell_type": "code",
   "execution_count": 25,
   "metadata": {},
   "outputs": [
    {
     "data": {
      "text/plain": [
       "3.0"
      ]
     },
     "execution_count": 25,
     "metadata": {},
     "output_type": "execute_result"
    }
   ],
   "source": [
    "costs_classification( 10, 'burgerclub')"
   ]
  },
  {
   "cell_type": "code",
   "execution_count": 26,
   "metadata": {},
   "outputs": [
    {
     "data": {
      "text/plain": [
       "9"
      ]
     },
     "execution_count": 26,
     "metadata": {},
     "output_type": "execute_result"
    }
   ],
   "source": [
    "costs_classification( 10, 'foody')"
   ]
  },
  {
   "cell_type": "code",
   "execution_count": 27,
   "metadata": {},
   "outputs": [
    {
     "data": {
      "text/plain": [
       "4"
      ]
     },
     "execution_count": 27,
     "metadata": {},
     "output_type": "execute_result"
    }
   ],
   "source": [
    "costs_classification( 10, 'google')"
   ]
  },
  {
   "cell_type": "code",
   "execution_count": 34,
   "metadata": {},
   "outputs": [],
   "source": [
    "def expense_and_income( line ):\n",
    "    \"\"\"\n",
    "    This function returns total expense and income for the line LINE\n",
    "    depending on source\n",
    "    \"\"\"\n",
    "    source = line[5]\n",
    "    amount_paid = float( line[-1].replace(',', '.') ) #income\n",
    "    cost = float ( line[6].replace(',', '.') ) #expense\n",
    "    partner_commission = costs_classification( amount_paid, source )\n",
    "    return source, cost+partner_commission, amount_paid"
   ]
  },
  {
   "cell_type": "code",
   "execution_count": 35,
   "metadata": {},
   "outputs": [],
   "source": [
    "line = ['40443', '05.10.2016 23:18', '1010', '0,000925926', 'seo', 'google', '0', '6243', '20,20']"
   ]
  },
  {
   "cell_type": "code",
   "execution_count": 36,
   "metadata": {},
   "outputs": [
    {
     "data": {
      "text/plain": [
       "('google', 4.0, 20.2)"
      ]
     },
     "execution_count": 36,
     "metadata": {},
     "output_type": "execute_result"
    }
   ],
   "source": [
    "expense_and_income( line )"
   ]
  },
  {
   "cell_type": "code",
   "execution_count": 37,
   "metadata": {},
   "outputs": [
    {
     "data": {
      "text/plain": [
       "('burgerclub', 7.06, 20.2)"
      ]
     },
     "execution_count": 37,
     "metadata": {},
     "output_type": "execute_result"
    }
   ],
   "source": [
    "expense_and_income( ['40443', '05.10.2016 23:18', '1010', '0,000925926', 'seo', 'burgerclub', '1', '6243', '20,20'] )"
   ]
  },
  {
   "cell_type": "code",
   "execution_count": 38,
   "metadata": {},
   "outputs": [],
   "source": [
    "roi_stats = {}\n",
    "with open( 'data_no_header_module2_unit5.txt', 'r' ) as file:\n",
    "    for line in file:\n",
    "        line = line.strip().split('\\t')\n",
    "        source, cost, income = expense_and_income( line )\n",
    "        if source in roi_stats:\n",
    "            roi_stats[source]['cost'] += cost\n",
    "            roi_stats[source]['income'] += income\n",
    "        else:\n",
    "            roi_stats[source] = {}\n",
    "            roi_stats[source]['cost'] = cost\n",
    "            roi_stats[source]['income'] = income"
   ]
  },
  {
   "cell_type": "code",
   "execution_count": 39,
   "metadata": {},
   "outputs": [],
   "source": [
    "for source, data in roi_stats.items():\n",
    "    data['roi'] = (data['income'] - data['cost'])/ data['cost']"
   ]
  },
  {
   "cell_type": "code",
   "execution_count": 40,
   "metadata": {},
   "outputs": [
    {
     "name": "stdout",
     "output_type": "stream",
     "text": [
      "google\t3.19\n",
      "yandex\t3.29\n",
      "promo\t3.34\n",
      "burgerclub\t1.64\n",
      "food-delivery\t1.56\n",
      "city-magazine\t1.26\n",
      "foody\t1.42\n",
      "newsletter\t3.91\n",
      "facebook\t3.53\n",
      "direct\t3.42\n",
      "vk\t2.62\n"
     ]
    }
   ],
   "source": [
    "for source, data in roi_stats.items():\n",
    "    print('{}\\t{:.2f}'.format(source, data['roi']))"
   ]
  },
  {
   "cell_type": "markdown",
   "metadata": {},
   "source": [
    "# Unit 8"
   ]
  },
  {
   "cell_type": "code",
   "execution_count": 48,
   "metadata": {},
   "outputs": [],
   "source": [
    "def expense_and_income_sourceType( line ):\n",
    "    \"\"\"\n",
    "    This function returns total expense and income for the line LINE\n",
    "    depending on source type\n",
    "    \"\"\"\n",
    "    source = line[5]\n",
    "    medium = line[4]\n",
    "    sourceType, orderType = source_type_classification( line )\n",
    "    amount_paid = float( line[-1].replace(',', '.') ) #income\n",
    "    cost = float ( line[6].replace(',', '.') ) #expense\n",
    "    partner_commission = costs_classification( amount_paid, source )\n",
    "    return sourceType, cost+partner_commission, amount_paid"
   ]
  },
  {
   "cell_type": "code",
   "execution_count": 50,
   "metadata": {},
   "outputs": [],
   "source": [
    "roi_stats_type = {}\n",
    "with open( 'data_no_header_module2_unit5.txt', 'r' ) as file:\n",
    "    for line in file:\n",
    "        line = line.strip().split('\\t')\n",
    "        sourceType, cost, income = expense_and_income_sourceType( line )\n",
    "        if sourceType in roi_stats_type:\n",
    "            roi_stats_type[sourceType]['cost'] += cost\n",
    "            roi_stats_type[sourceType]['income'] += income\n",
    "        else:\n",
    "            roi_stats_type[sourceType] = {}\n",
    "            roi_stats_type[sourceType]['cost'] = cost\n",
    "            roi_stats_type[sourceType]['income'] = income"
   ]
  },
  {
   "cell_type": "code",
   "execution_count": 51,
   "metadata": {},
   "outputs": [
    {
     "data": {
      "text/plain": [
       "{'search engines seo': {'cost': 686.2699999999992, 'income': 2902.4},\n",
       " 'other': {'cost': 541.1059999999999, 'income': 1992.7999999999997},\n",
       " 'search engines brand': {'cost': 52.0, 'income': 234.60000000000005}}"
      ]
     },
     "execution_count": 51,
     "metadata": {},
     "output_type": "execute_result"
    }
   ],
   "source": [
    "roi_stats_type"
   ]
  },
  {
   "cell_type": "code",
   "execution_count": 55,
   "metadata": {},
   "outputs": [],
   "source": [
    "for sourceType, data in roi_stats_type.items():\n",
    "    data['roi'] = ( data['income'] - data['cost'])/ data['cost']\n",
    "    "
   ]
  },
  {
   "cell_type": "code",
   "execution_count": 56,
   "metadata": {},
   "outputs": [
    {
     "name": "stdout",
     "output_type": "stream",
     "text": [
      "search engines seo\t3.23\n",
      "other\t2.68\n",
      "search engines brand\t3.51\n"
     ]
    }
   ],
   "source": [
    "for sourceType, data in roi_stats_type.items():\n",
    "    print('{}\\t{:.2f}'.format(sourceType, data['roi']))"
   ]
  },
  {
   "cell_type": "code",
   "execution_count": null,
   "metadata": {},
   "outputs": [],
   "source": []
  }
 ],
 "metadata": {
  "kernelspec": {
   "display_name": "Python 3",
   "language": "python",
   "name": "python3"
  },
  "language_info": {
   "codemirror_mode": {
    "name": "ipython",
    "version": 3
   },
   "file_extension": ".py",
   "mimetype": "text/x-python",
   "name": "python",
   "nbconvert_exporter": "python",
   "pygments_lexer": "ipython3",
   "version": "3.7.6"
  }
 },
 "nbformat": 4,
 "nbformat_minor": 4
}
