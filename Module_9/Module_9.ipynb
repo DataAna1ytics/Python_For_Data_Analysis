{
 "cells": [
  {
   "cell_type": "markdown",
   "metadata": {},
   "source": [
    "# Visualization and records"
   ]
  },
  {
   "cell_type": "markdown",
   "metadata": {},
   "source": [
    "# UNIT 1"
   ]
  },
  {
   "cell_type": "markdown",
   "metadata": {},
   "source": [
    "## Matplotlib, Seaborn, Plotly"
   ]
  },
  {
   "cell_type": "code",
   "execution_count": 2,
   "metadata": {},
   "outputs": [
    {
     "name": "stdout",
     "output_type": "stream",
     "text": [
      "Wall time: 0 ns\n"
     ]
    }
   ],
   "source": [
    "import matplotlib.pyplot as plt\n",
    "import seaborn as sns"
   ]
  },
  {
   "cell_type": "code",
   "execution_count": 4,
   "metadata": {},
   "outputs": [
    {
     "data": {
      "text/html": [
       "<div>\n",
       "<style scoped>\n",
       "    .dataframe tbody tr th:only-of-type {\n",
       "        vertical-align: middle;\n",
       "    }\n",
       "\n",
       "    .dataframe tbody tr th {\n",
       "        vertical-align: top;\n",
       "    }\n",
       "\n",
       "    .dataframe thead th {\n",
       "        text-align: right;\n",
       "    }\n",
       "</style>\n",
       "<table border=\"1\" class=\"dataframe\">\n",
       "  <thead>\n",
       "    <tr style=\"text-align: right;\">\n",
       "      <th>year</th>\n",
       "      <th>1949</th>\n",
       "      <th>1950</th>\n",
       "      <th>1951</th>\n",
       "      <th>1952</th>\n",
       "      <th>1953</th>\n",
       "      <th>1954</th>\n",
       "      <th>1955</th>\n",
       "      <th>1956</th>\n",
       "      <th>1957</th>\n",
       "      <th>1958</th>\n",
       "      <th>1959</th>\n",
       "      <th>1960</th>\n",
       "    </tr>\n",
       "    <tr>\n",
       "      <th>month</th>\n",
       "      <th></th>\n",
       "      <th></th>\n",
       "      <th></th>\n",
       "      <th></th>\n",
       "      <th></th>\n",
       "      <th></th>\n",
       "      <th></th>\n",
       "      <th></th>\n",
       "      <th></th>\n",
       "      <th></th>\n",
       "      <th></th>\n",
       "      <th></th>\n",
       "    </tr>\n",
       "  </thead>\n",
       "  <tbody>\n",
       "    <tr>\n",
       "      <th>January</th>\n",
       "      <td>112</td>\n",
       "      <td>115</td>\n",
       "      <td>145</td>\n",
       "      <td>171</td>\n",
       "      <td>196</td>\n",
       "      <td>204</td>\n",
       "      <td>242</td>\n",
       "      <td>284</td>\n",
       "      <td>315</td>\n",
       "      <td>340</td>\n",
       "      <td>360</td>\n",
       "      <td>417</td>\n",
       "    </tr>\n",
       "    <tr>\n",
       "      <th>February</th>\n",
       "      <td>118</td>\n",
       "      <td>126</td>\n",
       "      <td>150</td>\n",
       "      <td>180</td>\n",
       "      <td>196</td>\n",
       "      <td>188</td>\n",
       "      <td>233</td>\n",
       "      <td>277</td>\n",
       "      <td>301</td>\n",
       "      <td>318</td>\n",
       "      <td>342</td>\n",
       "      <td>391</td>\n",
       "    </tr>\n",
       "    <tr>\n",
       "      <th>March</th>\n",
       "      <td>132</td>\n",
       "      <td>141</td>\n",
       "      <td>178</td>\n",
       "      <td>193</td>\n",
       "      <td>236</td>\n",
       "      <td>235</td>\n",
       "      <td>267</td>\n",
       "      <td>317</td>\n",
       "      <td>356</td>\n",
       "      <td>362</td>\n",
       "      <td>406</td>\n",
       "      <td>419</td>\n",
       "    </tr>\n",
       "    <tr>\n",
       "      <th>April</th>\n",
       "      <td>129</td>\n",
       "      <td>135</td>\n",
       "      <td>163</td>\n",
       "      <td>181</td>\n",
       "      <td>235</td>\n",
       "      <td>227</td>\n",
       "      <td>269</td>\n",
       "      <td>313</td>\n",
       "      <td>348</td>\n",
       "      <td>348</td>\n",
       "      <td>396</td>\n",
       "      <td>461</td>\n",
       "    </tr>\n",
       "    <tr>\n",
       "      <th>May</th>\n",
       "      <td>121</td>\n",
       "      <td>125</td>\n",
       "      <td>172</td>\n",
       "      <td>183</td>\n",
       "      <td>229</td>\n",
       "      <td>234</td>\n",
       "      <td>270</td>\n",
       "      <td>318</td>\n",
       "      <td>355</td>\n",
       "      <td>363</td>\n",
       "      <td>420</td>\n",
       "      <td>472</td>\n",
       "    </tr>\n",
       "    <tr>\n",
       "      <th>June</th>\n",
       "      <td>135</td>\n",
       "      <td>149</td>\n",
       "      <td>178</td>\n",
       "      <td>218</td>\n",
       "      <td>243</td>\n",
       "      <td>264</td>\n",
       "      <td>315</td>\n",
       "      <td>374</td>\n",
       "      <td>422</td>\n",
       "      <td>435</td>\n",
       "      <td>472</td>\n",
       "      <td>535</td>\n",
       "    </tr>\n",
       "    <tr>\n",
       "      <th>July</th>\n",
       "      <td>148</td>\n",
       "      <td>170</td>\n",
       "      <td>199</td>\n",
       "      <td>230</td>\n",
       "      <td>264</td>\n",
       "      <td>302</td>\n",
       "      <td>364</td>\n",
       "      <td>413</td>\n",
       "      <td>465</td>\n",
       "      <td>491</td>\n",
       "      <td>548</td>\n",
       "      <td>622</td>\n",
       "    </tr>\n",
       "    <tr>\n",
       "      <th>August</th>\n",
       "      <td>148</td>\n",
       "      <td>170</td>\n",
       "      <td>199</td>\n",
       "      <td>242</td>\n",
       "      <td>272</td>\n",
       "      <td>293</td>\n",
       "      <td>347</td>\n",
       "      <td>405</td>\n",
       "      <td>467</td>\n",
       "      <td>505</td>\n",
       "      <td>559</td>\n",
       "      <td>606</td>\n",
       "    </tr>\n",
       "    <tr>\n",
       "      <th>September</th>\n",
       "      <td>136</td>\n",
       "      <td>158</td>\n",
       "      <td>184</td>\n",
       "      <td>209</td>\n",
       "      <td>237</td>\n",
       "      <td>259</td>\n",
       "      <td>312</td>\n",
       "      <td>355</td>\n",
       "      <td>404</td>\n",
       "      <td>404</td>\n",
       "      <td>463</td>\n",
       "      <td>508</td>\n",
       "    </tr>\n",
       "    <tr>\n",
       "      <th>October</th>\n",
       "      <td>119</td>\n",
       "      <td>133</td>\n",
       "      <td>162</td>\n",
       "      <td>191</td>\n",
       "      <td>211</td>\n",
       "      <td>229</td>\n",
       "      <td>274</td>\n",
       "      <td>306</td>\n",
       "      <td>347</td>\n",
       "      <td>359</td>\n",
       "      <td>407</td>\n",
       "      <td>461</td>\n",
       "    </tr>\n",
       "    <tr>\n",
       "      <th>November</th>\n",
       "      <td>104</td>\n",
       "      <td>114</td>\n",
       "      <td>146</td>\n",
       "      <td>172</td>\n",
       "      <td>180</td>\n",
       "      <td>203</td>\n",
       "      <td>237</td>\n",
       "      <td>271</td>\n",
       "      <td>305</td>\n",
       "      <td>310</td>\n",
       "      <td>362</td>\n",
       "      <td>390</td>\n",
       "    </tr>\n",
       "    <tr>\n",
       "      <th>December</th>\n",
       "      <td>118</td>\n",
       "      <td>140</td>\n",
       "      <td>166</td>\n",
       "      <td>194</td>\n",
       "      <td>201</td>\n",
       "      <td>229</td>\n",
       "      <td>278</td>\n",
       "      <td>306</td>\n",
       "      <td>336</td>\n",
       "      <td>337</td>\n",
       "      <td>405</td>\n",
       "      <td>432</td>\n",
       "    </tr>\n",
       "  </tbody>\n",
       "</table>\n",
       "</div>"
      ],
      "text/plain": [
       "year       1949  1950  1951  1952  1953  1954  1955  1956  1957  1958  1959  \\\n",
       "month                                                                         \n",
       "January     112   115   145   171   196   204   242   284   315   340   360   \n",
       "February    118   126   150   180   196   188   233   277   301   318   342   \n",
       "March       132   141   178   193   236   235   267   317   356   362   406   \n",
       "April       129   135   163   181   235   227   269   313   348   348   396   \n",
       "May         121   125   172   183   229   234   270   318   355   363   420   \n",
       "June        135   149   178   218   243   264   315   374   422   435   472   \n",
       "July        148   170   199   230   264   302   364   413   465   491   548   \n",
       "August      148   170   199   242   272   293   347   405   467   505   559   \n",
       "September   136   158   184   209   237   259   312   355   404   404   463   \n",
       "October     119   133   162   191   211   229   274   306   347   359   407   \n",
       "November    104   114   146   172   180   203   237   271   305   310   362   \n",
       "December    118   140   166   194   201   229   278   306   336   337   405   \n",
       "\n",
       "year       1960  \n",
       "month            \n",
       "January     417  \n",
       "February    391  \n",
       "March       419  \n",
       "April       461  \n",
       "May         472  \n",
       "June        535  \n",
       "July        622  \n",
       "August      606  \n",
       "September   508  \n",
       "October     461  \n",
       "November    390  \n",
       "December    432  "
      ]
     },
     "execution_count": 4,
     "metadata": {},
     "output_type": "execute_result"
    }
   ],
   "source": [
    "sns.set()\n",
    "\n",
    "#Load the example flights dataset and conver to long-form\n",
    "flights_long = sns.load_dataset(\"flights\")\n",
    "flights = flights_long.pivot(\"month\", \"year\", 'passengers')\n",
    "flights"
   ]
  },
  {
   "cell_type": "code",
   "execution_count": 6,
   "metadata": {},
   "outputs": [
    {
     "data": {
      "text/plain": [
       "<matplotlib.axes._subplots.AxesSubplot at 0x21a75dd27c8>"
      ]
     },
     "execution_count": 6,
     "metadata": {},
     "output_type": "execute_result"
    },
    {
     "data": {
      "image/png": "[encoded data removed]",
      "text/plain": [
       "<Figure size 648x432 with 2 Axes>"
      ]
     },
     "metadata": {},
     "output_type": "display_data"
    }
   ],
   "source": [
    "f, ax = plt.subplots(figsize=(9,6))\n",
    "sns.heatmap(flights, annot=True, fmt=\"d\", linewidths=.5, ax=ax)"
   ]
  },
  {
   "cell_type": "markdown",
   "metadata": {},
   "source": [
    "# UNIT 2"
   ]
  },
  {
   "cell_type": "code",
   "execution_count": 8,
   "metadata": {},
   "outputs": [
    {
     "data": {
      "text/html": [
       "<div>\n",
       "<style scoped>\n",
       "    .dataframe tbody tr th:only-of-type {\n",
       "        vertical-align: middle;\n",
       "    }\n",
       "\n",
       "    .dataframe tbody tr th {\n",
       "        vertical-align: top;\n",
       "    }\n",
       "\n",
       "    .dataframe thead th {\n",
       "        text-align: right;\n",
       "    }\n",
       "</style>\n",
       "<table border=\"1\" class=\"dataframe\">\n",
       "  <thead>\n",
       "    <tr style=\"text-align: right;\">\n",
       "      <th></th>\n",
       "      <th>group</th>\n",
       "      <th>phrase</th>\n",
       "      <th>effect</th>\n",
       "      <th>ad_id</th>\n",
       "      <th>title</th>\n",
       "      <th>text</th>\n",
       "      <th>link</th>\n",
       "      <th>campaign</th>\n",
       "    </tr>\n",
       "  </thead>\n",
       "  <tbody>\n",
       "    <tr>\n",
       "      <th>0</th>\n",
       "      <td>мрт менделеевская</td>\n",
       "      <td>\"!мрт !менделеевская\"</td>\n",
       "      <td>4.5</td>\n",
       "      <td>2101704995</td>\n",
       "      <td>МРТ на Менделеевской от 2000₽</td>\n",
       "      <td>24 часа. МРТ в день обращения. Консультация вр...</td>\n",
       "      <td>https://awesome-site.ru/?utm_source=yandex&amp;utm...</td>\n",
       "      <td>a825749b87</td>\n",
       "    </tr>\n",
       "    <tr>\n",
       "      <th>1</th>\n",
       "      <td>мрт цао</td>\n",
       "      <td>\"мрт менделеевская\"</td>\n",
       "      <td>4.5</td>\n",
       "      <td>2101704995</td>\n",
       "      <td>МРТ на Менделеевской от 2000₽</td>\n",
       "      <td>24 часа. МРТ в день обращения. Консультация вр...</td>\n",
       "      <td>https://awesome-site.ru/?utm_source=yandex&amp;utm...</td>\n",
       "      <td>a825749b87</td>\n",
       "    </tr>\n",
       "    <tr>\n",
       "      <th>2</th>\n",
       "      <td>мрт цао</td>\n",
       "      <td>мрт менделеевская -головы -позвоночника -сдела...</td>\n",
       "      <td>7.4</td>\n",
       "      <td>2101704995</td>\n",
       "      <td>МРТ на Менделеевской от 2000₽</td>\n",
       "      <td>24 часа. МРТ в день обращения. Консультация вр...</td>\n",
       "      <td>https://awesome-site.ru/?utm_source=yandex&amp;utm...</td>\n",
       "      <td>a825749b87</td>\n",
       "    </tr>\n",
       "    <tr>\n",
       "      <th>3</th>\n",
       "      <td>мрт цао</td>\n",
       "      <td>\"!мрт !цао\"</td>\n",
       "      <td>5.0</td>\n",
       "      <td>2101704999</td>\n",
       "      <td>МРТ в ЦАО от 2000₽. Звоните!</td>\n",
       "      <td>24 часа. МРТ в день обращения. Консультация вр...</td>\n",
       "      <td>https://awesome-site.ru/?utm_source=yandex&amp;utm...</td>\n",
       "      <td>9cc0c5f6ca</td>\n",
       "    </tr>\n",
       "    <tr>\n",
       "      <th>4</th>\n",
       "      <td>мрт сао</td>\n",
       "      <td>\"мрт цао\"</td>\n",
       "      <td>5.0</td>\n",
       "      <td>2101704999</td>\n",
       "      <td>МРТ в ЦАО от 2000₽. Звоните!</td>\n",
       "      <td>24 часа. МРТ в день обращения. Консультация вр...</td>\n",
       "      <td>https://awesome-site.ru/?utm_source=yandex&amp;utm...</td>\n",
       "      <td>9cc0c5f6ca</td>\n",
       "    </tr>\n",
       "  </tbody>\n",
       "</table>\n",
       "</div>"
      ],
      "text/plain": [
       "               group                                             phrase  \\\n",
       "0  мрт менделеевская                              \"!мрт !менделеевская\"   \n",
       "1            мрт цао                                \"мрт менделеевская\"   \n",
       "2            мрт цао  мрт менделеевская -головы -позвоночника -сдела...   \n",
       "3            мрт цао                                        \"!мрт !цао\"   \n",
       "4            мрт сао                                          \"мрт цао\"   \n",
       "\n",
       "   effect       ad_id                          title  \\\n",
       "0     4.5  2101704995  МРТ на Менделеевской от 2000₽   \n",
       "1     4.5  2101704995  МРТ на Менделеевской от 2000₽   \n",
       "2     7.4  2101704995  МРТ на Менделеевской от 2000₽   \n",
       "3     5.0  2101704999   МРТ в ЦАО от 2000₽. Звоните!   \n",
       "4     5.0  2101704999   МРТ в ЦАО от 2000₽. Звоните!   \n",
       "\n",
       "                                                text  \\\n",
       "0  24 часа. МРТ в день обращения. Консультация вр...   \n",
       "1  24 часа. МРТ в день обращения. Консультация вр...   \n",
       "2  24 часа. МРТ в день обращения. Консультация вр...   \n",
       "3  24 часа. МРТ в день обращения. Консультация вр...   \n",
       "4  24 часа. МРТ в день обращения. Консультация вр...   \n",
       "\n",
       "                                                link    campaign  \n",
       "0  https://awesome-site.ru/?utm_source=yandex&utm...  a825749b87  \n",
       "1  https://awesome-site.ru/?utm_source=yandex&utm...  a825749b87  \n",
       "2  https://awesome-site.ru/?utm_source=yandex&utm...  a825749b87  \n",
       "3  https://awesome-site.ru/?utm_source=yandex&utm...  9cc0c5f6ca  \n",
       "4  https://awesome-site.ru/?utm_source=yandex&utm...  9cc0c5f6ca  "
      ]
     },
     "execution_count": 8,
     "metadata": {},
     "output_type": "execute_result"
    }
   ],
   "source": [
    "import pandas as pd\n",
    "data = pd.read_csv('ad_campaigns_stats.csv')\n",
    "data.head()"
   ]
  },
  {
   "cell_type": "code",
   "execution_count": 14,
   "metadata": {},
   "outputs": [],
   "source": [
    "most_popular_campaigns = data['campaign'].value_counts().index[:5].tolist()"
   ]
  },
  {
   "cell_type": "code",
   "execution_count": 13,
   "metadata": {},
   "outputs": [
    {
     "data": {
      "text/html": [
       "<div>\n",
       "<style scoped>\n",
       "    .dataframe tbody tr th:only-of-type {\n",
       "        vertical-align: middle;\n",
       "    }\n",
       "\n",
       "    .dataframe tbody tr th {\n",
       "        vertical-align: top;\n",
       "    }\n",
       "\n",
       "    .dataframe thead th {\n",
       "        text-align: right;\n",
       "    }\n",
       "</style>\n",
       "<table border=\"1\" class=\"dataframe\">\n",
       "  <thead>\n",
       "    <tr style=\"text-align: right;\">\n",
       "      <th></th>\n",
       "      <th>group</th>\n",
       "      <th>phrase</th>\n",
       "      <th>effect</th>\n",
       "      <th>ad_id</th>\n",
       "      <th>title</th>\n",
       "      <th>text</th>\n",
       "      <th>link</th>\n",
       "      <th>campaign</th>\n",
       "    </tr>\n",
       "  </thead>\n",
       "  <tbody>\n",
       "    <tr>\n",
       "      <th>2157</th>\n",
       "      <td>клиника москва мрт</td>\n",
       "      <td>\"клиника москва мрт\"</td>\n",
       "      <td>8.7</td>\n",
       "      <td>3826704862</td>\n",
       "      <td>Клиники МРТ в Москве. От 2000₽</td>\n",
       "      <td>24 часа. МРТ в день обращения. Консультация вр...</td>\n",
       "      <td>https://awesome-site.ru/?utm_source=yandex&amp;utm...</td>\n",
       "      <td>23d6da5a5a</td>\n",
       "    </tr>\n",
       "    <tr>\n",
       "      <th>2158</th>\n",
       "      <td>10 мрт палиха</td>\n",
       "      <td>\"!клиника !москва !мрт\"</td>\n",
       "      <td>8.7</td>\n",
       "      <td>3826704862</td>\n",
       "      <td>Клиники МРТ в Москве. От 2000₽</td>\n",
       "      <td>24 часа. МРТ в день обращения. Консультация вр...</td>\n",
       "      <td>https://awesome-site.ru/?utm_source=yandex&amp;utm...</td>\n",
       "      <td>23d6da5a5a</td>\n",
       "    </tr>\n",
       "    <tr>\n",
       "      <th>2153</th>\n",
       "      <td>мрт вднх</td>\n",
       "      <td>\"!мрт !вднх\"</td>\n",
       "      <td>7.4</td>\n",
       "      <td>3826704858</td>\n",
       "      <td>МРТ на ВДНХ в Москве от 2000₽</td>\n",
       "      <td>24 часа. МРТ в день обращения. Консультация вр...</td>\n",
       "      <td>https://awesome-site.ru/?utm_source=yandex&amp;utm...</td>\n",
       "      <td>9bf072c32b</td>\n",
       "    </tr>\n",
       "    <tr>\n",
       "      <th>2154</th>\n",
       "      <td>мрт палиха</td>\n",
       "      <td>\"мрт вднх\"</td>\n",
       "      <td>7.4</td>\n",
       "      <td>3826704858</td>\n",
       "      <td>МРТ на ВДНХ в Москве от 2000₽</td>\n",
       "      <td>24 часа. МРТ в день обращения. Консультация вр...</td>\n",
       "      <td>https://awesome-site.ru/?utm_source=yandex&amp;utm...</td>\n",
       "      <td>9bf072c32b</td>\n",
       "    </tr>\n",
       "    <tr>\n",
       "      <th>2155</th>\n",
       "      <td>клиника москва мрт</td>\n",
       "      <td>мрт вднх -головы -касаткина -позвоночника -сде...</td>\n",
       "      <td>7.2</td>\n",
       "      <td>3826704858</td>\n",
       "      <td>МРТ на ВДНХ в Москве от 2000₽</td>\n",
       "      <td>24 часа. МРТ в день обращения. Консультация вр...</td>\n",
       "      <td>https://awesome-site.ru/?utm_source=yandex&amp;utm...</td>\n",
       "      <td>9bf072c32b</td>\n",
       "    </tr>\n",
       "    <tr>\n",
       "      <th>2150</th>\n",
       "      <td>цмрт новослободская</td>\n",
       "      <td>\"11 мрт стромынка\"</td>\n",
       "      <td>7.8</td>\n",
       "      <td>3826704855</td>\n",
       "      <td>МРТ на ул. Стромынка от 2000₽</td>\n",
       "      <td>24 часа. МРТ в день обращения. Консультация вр...</td>\n",
       "      <td>https://awesome-site.ru/?utm_source=yandex&amp;utm...</td>\n",
       "      <td>9ee3e2c876</td>\n",
       "    </tr>\n",
       "    <tr>\n",
       "      <th>2151</th>\n",
       "      <td>мрт вднх</td>\n",
       "      <td>11 мрт стромынка -сокольники -центры</td>\n",
       "      <td>7.7</td>\n",
       "      <td>3826704855</td>\n",
       "      <td>МРТ на ул. Стромынка от 2000₽</td>\n",
       "      <td>24 часа. МРТ в день обращения. Консультация вр...</td>\n",
       "      <td>https://awesome-site.ru/?utm_source=yandex&amp;utm...</td>\n",
       "      <td>9ee3e2c876</td>\n",
       "    </tr>\n",
       "    <tr>\n",
       "      <th>2156</th>\n",
       "      <td>клиника москва мрт</td>\n",
       "      <td>мрт палиха -10 -головы -позвоночника -сделать ...</td>\n",
       "      <td>7.4</td>\n",
       "      <td>3826704860</td>\n",
       "      <td>МРТ на ул. Палиха от 2 000₽</td>\n",
       "      <td>24 часа. МРТ в день обращения. Консультация вр...</td>\n",
       "      <td>https://awesome-site.ru/?utm_source=yandex&amp;utm...</td>\n",
       "      <td>a117c5fc1b</td>\n",
       "    </tr>\n",
       "    <tr>\n",
       "      <th>2152</th>\n",
       "      <td>мрт вднх</td>\n",
       "      <td>цмрт новослободская</td>\n",
       "      <td>7.5</td>\n",
       "      <td>3826704857</td>\n",
       "      <td>ЦМРТ на Новослободской. Звоните!</td>\n",
       "      <td>24 часа. От 2 000₽. Консультация врача бесплат...</td>\n",
       "      <td>https://awesome-site.ru/?utm_source=yandex&amp;utm...</td>\n",
       "      <td>b3f52e6f64</td>\n",
       "    </tr>\n",
       "  </tbody>\n",
       "</table>\n",
       "</div>"
      ],
      "text/plain": [
       "                    group                                             phrase  \\\n",
       "2157   клиника москва мрт                               \"клиника москва мрт\"   \n",
       "2158        10 мрт палиха                            \"!клиника !москва !мрт\"   \n",
       "2153             мрт вднх                                       \"!мрт !вднх\"   \n",
       "2154           мрт палиха                                         \"мрт вднх\"   \n",
       "2155   клиника москва мрт  мрт вднх -головы -касаткина -позвоночника -сде...   \n",
       "2150  цмрт новослободская                                 \"11 мрт стромынка\"   \n",
       "2151             мрт вднх               11 мрт стромынка -сокольники -центры   \n",
       "2156   клиника москва мрт  мрт палиха -10 -головы -позвоночника -сделать ...   \n",
       "2152             мрт вднх                                цмрт новослободская   \n",
       "\n",
       "      effect       ad_id                             title  \\\n",
       "2157     8.7  3826704862    Клиники МРТ в Москве. От 2000₽   \n",
       "2158     8.7  3826704862    Клиники МРТ в Москве. От 2000₽   \n",
       "2153     7.4  3826704858     МРТ на ВДНХ в Москве от 2000₽   \n",
       "2154     7.4  3826704858     МРТ на ВДНХ в Москве от 2000₽   \n",
       "2155     7.2  3826704858     МРТ на ВДНХ в Москве от 2000₽   \n",
       "2150     7.8  3826704855     МРТ на ул. Стромынка от 2000₽   \n",
       "2151     7.7  3826704855     МРТ на ул. Стромынка от 2000₽   \n",
       "2156     7.4  3826704860       МРТ на ул. Палиха от 2 000₽   \n",
       "2152     7.5  3826704857  ЦМРТ на Новослободской. Звоните!   \n",
       "\n",
       "                                                   text  \\\n",
       "2157  24 часа. МРТ в день обращения. Консультация вр...   \n",
       "2158  24 часа. МРТ в день обращения. Консультация вр...   \n",
       "2153  24 часа. МРТ в день обращения. Консультация вр...   \n",
       "2154  24 часа. МРТ в день обращения. Консультация вр...   \n",
       "2155  24 часа. МРТ в день обращения. Консультация вр...   \n",
       "2150  24 часа. МРТ в день обращения. Консультация вр...   \n",
       "2151  24 часа. МРТ в день обращения. Консультация вр...   \n",
       "2156  24 часа. МРТ в день обращения. Консультация вр...   \n",
       "2152  24 часа. От 2 000₽. Консультация врача бесплат...   \n",
       "\n",
       "                                                   link    campaign  \n",
       "2157  https://awesome-site.ru/?utm_source=yandex&utm...  23d6da5a5a  \n",
       "2158  https://awesome-site.ru/?utm_source=yandex&utm...  23d6da5a5a  \n",
       "2153  https://awesome-site.ru/?utm_source=yandex&utm...  9bf072c32b  \n",
       "2154  https://awesome-site.ru/?utm_source=yandex&utm...  9bf072c32b  \n",
       "2155  https://awesome-site.ru/?utm_source=yandex&utm...  9bf072c32b  \n",
       "2150  https://awesome-site.ru/?utm_source=yandex&utm...  9ee3e2c876  \n",
       "2151  https://awesome-site.ru/?utm_source=yandex&utm...  9ee3e2c876  \n",
       "2156  https://awesome-site.ru/?utm_source=yandex&utm...  a117c5fc1b  \n",
       "2152  https://awesome-site.ru/?utm_source=yandex&utm...  b3f52e6f64  "
      ]
     },
     "execution_count": 13,
     "metadata": {},
     "output_type": "execute_result"
    }
   ],
   "source": [
    "data.tail(9).sort_values('campaign')"
   ]
  },
  {
   "cell_type": "code",
   "execution_count": 16,
   "metadata": {},
   "outputs": [],
   "source": [
    "# filtering\n",
    "data = data[ data['campaign'].isin(most_popular_campaigns)]"
   ]
  },
  {
   "cell_type": "code",
   "execution_count": 17,
   "metadata": {},
   "outputs": [
    {
     "data": {
      "text/plain": [
       "array(['7f35591a28', '8e77a0e565', '2cc2e7d770', 'f6d2ae1e3d',\n",
       "       'e90f4db55a'], dtype=object)"
      ]
     },
     "execution_count": 17,
     "metadata": {},
     "output_type": "execute_result"
    }
   ],
   "source": [
    "data['campaign'].unique()"
   ]
  },
  {
   "cell_type": "code",
   "execution_count": 18,
   "metadata": {},
   "outputs": [],
   "source": [
    "%matplotlib inline"
   ]
  },
  {
   "cell_type": "code",
   "execution_count": 19,
   "metadata": {},
   "outputs": [
    {
     "data": {
      "text/plain": [
       "<matplotlib.axes._subplots.AxesSubplot at 0x21a77cdc308>"
      ]
     },
     "execution_count": 19,
     "metadata": {},
     "output_type": "execute_result"
    },
    {
     "data": {
      "image/png": "[encoded data removed]",
      "text/plain": [
       "<Figure size 432x288 with 1 Axes>"
      ]
     },
     "metadata": {
      "needs_background": "light"
     },
     "output_type": "display_data"
    }
   ],
   "source": [
    "data['campaign'].hist()\n",
    "#https://matplotlib.org/api/_as_gen/matplotlib.pyplot.hist.html"
   ]
  },
  {
   "cell_type": "markdown",
   "metadata": {},
   "source": [
    "# UNIT 3"
   ]
  },
  {
   "cell_type": "code",
   "execution_count": 23,
   "metadata": {},
   "outputs": [
    {
     "data": {
      "text/html": [
       "<div>\n",
       "<style scoped>\n",
       "    .dataframe tbody tr th:only-of-type {\n",
       "        vertical-align: middle;\n",
       "    }\n",
       "\n",
       "    .dataframe tbody tr th {\n",
       "        vertical-align: top;\n",
       "    }\n",
       "\n",
       "    .dataframe thead th {\n",
       "        text-align: right;\n",
       "    }\n",
       "</style>\n",
       "<table border=\"1\" class=\"dataframe\">\n",
       "  <thead>\n",
       "    <tr style=\"text-align: right;\">\n",
       "      <th></th>\n",
       "      <th>month</th>\n",
       "      <th>2016</th>\n",
       "      <th>2017</th>\n",
       "      <th>2018</th>\n",
       "    </tr>\n",
       "  </thead>\n",
       "  <tbody>\n",
       "    <tr>\n",
       "      <th>0</th>\n",
       "      <td>1</td>\n",
       "      <td>513</td>\n",
       "      <td>465</td>\n",
       "      <td>500</td>\n",
       "    </tr>\n",
       "    <tr>\n",
       "      <th>1</th>\n",
       "      <td>2</td>\n",
       "      <td>534</td>\n",
       "      <td>481</td>\n",
       "      <td>523</td>\n",
       "    </tr>\n",
       "    <tr>\n",
       "      <th>2</th>\n",
       "      <td>3</td>\n",
       "      <td>608</td>\n",
       "      <td>553</td>\n",
       "      <td>580</td>\n",
       "    </tr>\n",
       "    <tr>\n",
       "      <th>3</th>\n",
       "      <td>4</td>\n",
       "      <td>620</td>\n",
       "      <td>561</td>\n",
       "      <td>593</td>\n",
       "    </tr>\n",
       "    <tr>\n",
       "      <th>4</th>\n",
       "      <td>5</td>\n",
       "      <td>577</td>\n",
       "      <td>563</td>\n",
       "      <td>600</td>\n",
       "    </tr>\n",
       "  </tbody>\n",
       "</table>\n",
       "</div>"
      ],
      "text/plain": [
       "   month  2016  2017  2018\n",
       "0      1   513   465   500\n",
       "1      2   534   481   523\n",
       "2      3   608   553   580\n",
       "3      4   620   561   593\n",
       "4      5   577   563   600"
      ]
     },
     "execution_count": 23,
     "metadata": {},
     "output_type": "execute_result"
    }
   ],
   "source": [
    "data = pd.read_csv('sales_data.csv', sep = ';')\n",
    "data.head()"
   ]
  },
  {
   "cell_type": "code",
   "execution_count": 24,
   "metadata": {},
   "outputs": [],
   "source": [
    "import matplotlib.pylab as plt"
   ]
  },
  {
   "cell_type": "code",
   "execution_count": 31,
   "metadata": {},
   "outputs": [
    {
     "data": {
      "text/plain": [
       "<matplotlib.legend.Legend at 0x21a78f402c8>"
      ]
     },
     "execution_count": 31,
     "metadata": {},
     "output_type": "execute_result"
    },
    {
     "data": {
      "image/png": "[encoded data removed]",
      "text/plain": [
       "<Figure size 432x288 with 1 Axes>"
      ]
     },
     "metadata": {
      "needs_background": "light"
     },
     "output_type": "display_data"
    }
   ],
   "source": [
    "#Добавляем нужные данные тремя командами (ось X задаем в первой команде, в остальных добавляем данные по оси Y и получаем графики):\n",
    "plt.plot(data['month'], data['2016'], marker ='o')\n",
    "plt.plot(data['2017'], linestyle='dashed')\n",
    "plt.plot(data['2018'], linewidth = '4')\n",
    "plt.legend(data)"
   ]
  },
  {
   "cell_type": "code",
   "execution_count": null,
   "metadata": {},
   "outputs": [],
   "source": [
    "#https://matplotlib.org/api/_as_gen/matplotlib.pyplot.plot.html"
   ]
  },
  {
   "cell_type": "markdown",
   "metadata": {},
   "source": [
    "# UNIT 4"
   ]
  },
  {
   "cell_type": "markdown",
   "metadata": {},
   "source": [
    "## Seaborn"
   ]
  },
  {
   "cell_type": "code",
   "execution_count": null,
   "metadata": {},
   "outputs": [],
   "source": [
    "#http://seaborn.pydata.org/examples/index.html"
   ]
  },
  {
   "cell_type": "code",
   "execution_count": 32,
   "metadata": {},
   "outputs": [
    {
     "data": {
      "text/html": [
       "<div>\n",
       "<style scoped>\n",
       "    .dataframe tbody tr th:only-of-type {\n",
       "        vertical-align: middle;\n",
       "    }\n",
       "\n",
       "    .dataframe tbody tr th {\n",
       "        vertical-align: top;\n",
       "    }\n",
       "\n",
       "    .dataframe thead th {\n",
       "        text-align: right;\n",
       "    }\n",
       "</style>\n",
       "<table border=\"1\" class=\"dataframe\">\n",
       "  <thead>\n",
       "    <tr style=\"text-align: right;\">\n",
       "      <th></th>\n",
       "      <th>month</th>\n",
       "      <th>p1</th>\n",
       "      <th>p2</th>\n",
       "      <th>p3</th>\n",
       "      <th>p4</th>\n",
       "      <th>p5</th>\n",
       "      <th>p6</th>\n",
       "      <th>p7</th>\n",
       "      <th>p8</th>\n",
       "      <th>p9</th>\n",
       "      <th>p10</th>\n",
       "    </tr>\n",
       "  </thead>\n",
       "  <tbody>\n",
       "    <tr>\n",
       "      <th>0</th>\n",
       "      <td>2018-01-01</td>\n",
       "      <td>7</td>\n",
       "      <td>185</td>\n",
       "      <td>385</td>\n",
       "      <td>-129</td>\n",
       "      <td>2260</td>\n",
       "      <td>98</td>\n",
       "      <td>245</td>\n",
       "      <td>1250</td>\n",
       "      <td>214</td>\n",
       "      <td>415</td>\n",
       "    </tr>\n",
       "    <tr>\n",
       "      <th>1</th>\n",
       "      <td>2018-01-02</td>\n",
       "      <td>7</td>\n",
       "      <td>108</td>\n",
       "      <td>79</td>\n",
       "      <td>-142</td>\n",
       "      <td>3280</td>\n",
       "      <td>113</td>\n",
       "      <td>149</td>\n",
       "      <td>1161</td>\n",
       "      <td>123</td>\n",
       "      <td>376</td>\n",
       "    </tr>\n",
       "    <tr>\n",
       "      <th>2</th>\n",
       "      <td>2018-01-03</td>\n",
       "      <td>8</td>\n",
       "      <td>214</td>\n",
       "      <td>80</td>\n",
       "      <td>-151</td>\n",
       "      <td>410</td>\n",
       "      <td>141</td>\n",
       "      <td>297</td>\n",
       "      <td>1315</td>\n",
       "      <td>146</td>\n",
       "      <td>397</td>\n",
       "    </tr>\n",
       "    <tr>\n",
       "      <th>3</th>\n",
       "      <td>2018-01-04</td>\n",
       "      <td>8</td>\n",
       "      <td>81</td>\n",
       "      <td>372</td>\n",
       "      <td>-160</td>\n",
       "      <td>1289</td>\n",
       "      <td>46</td>\n",
       "      <td>447</td>\n",
       "      <td>1389</td>\n",
       "      <td>200</td>\n",
       "      <td>253</td>\n",
       "    </tr>\n",
       "    <tr>\n",
       "      <th>4</th>\n",
       "      <td>2018-01-05</td>\n",
       "      <td>9</td>\n",
       "      <td>113</td>\n",
       "      <td>144</td>\n",
       "      <td>-173</td>\n",
       "      <td>1297</td>\n",
       "      <td>67</td>\n",
       "      <td>413</td>\n",
       "      <td>938</td>\n",
       "      <td>129</td>\n",
       "      <td>489</td>\n",
       "    </tr>\n",
       "  </tbody>\n",
       "</table>\n",
       "</div>"
      ],
      "text/plain": [
       "        month  p1   p2   p3   p4    p5   p6   p7    p8   p9  p10\n",
       "0  2018-01-01   7  185  385 -129  2260   98  245  1250  214  415\n",
       "1  2018-01-02   7  108   79 -142  3280  113  149  1161  123  376\n",
       "2  2018-01-03   8  214   80 -151   410  141  297  1315  146  397\n",
       "3  2018-01-04   8   81  372 -160  1289   46  447  1389  200  253\n",
       "4  2018-01-05   9  113  144 -173  1297   67  413   938  129  489"
      ]
     },
     "execution_count": 32,
     "metadata": {},
     "output_type": "execute_result"
    }
   ],
   "source": [
    "import pandas as pd\n",
    "features = pd.read_csv('correlation.tsv', sep='\\t')\n",
    "features.head()"
   ]
  },
  {
   "cell_type": "code",
   "execution_count": 33,
   "metadata": {},
   "outputs": [],
   "source": [
    "features.drop('month', axis=1,inplace=True)"
   ]
  },
  {
   "cell_type": "code",
   "execution_count": 34,
   "metadata": {},
   "outputs": [
    {
     "data": {
      "text/html": [
       "<div>\n",
       "<style scoped>\n",
       "    .dataframe tbody tr th:only-of-type {\n",
       "        vertical-align: middle;\n",
       "    }\n",
       "\n",
       "    .dataframe tbody tr th {\n",
       "        vertical-align: top;\n",
       "    }\n",
       "\n",
       "    .dataframe thead th {\n",
       "        text-align: right;\n",
       "    }\n",
       "</style>\n",
       "<table border=\"1\" class=\"dataframe\">\n",
       "  <thead>\n",
       "    <tr style=\"text-align: right;\">\n",
       "      <th></th>\n",
       "      <th>p1</th>\n",
       "      <th>p2</th>\n",
       "      <th>p3</th>\n",
       "      <th>p4</th>\n",
       "      <th>p5</th>\n",
       "      <th>p6</th>\n",
       "      <th>p7</th>\n",
       "      <th>p8</th>\n",
       "      <th>p9</th>\n",
       "      <th>p10</th>\n",
       "    </tr>\n",
       "  </thead>\n",
       "  <tbody>\n",
       "    <tr>\n",
       "      <th>p1</th>\n",
       "      <td>1.000000</td>\n",
       "      <td>0.249489</td>\n",
       "      <td>0.619757</td>\n",
       "      <td>-0.999524</td>\n",
       "      <td>0.587943</td>\n",
       "      <td>0.433063</td>\n",
       "      <td>0.577808</td>\n",
       "      <td>0.967058</td>\n",
       "      <td>0.466873</td>\n",
       "      <td>0.945575</td>\n",
       "    </tr>\n",
       "    <tr>\n",
       "      <th>p2</th>\n",
       "      <td>0.249489</td>\n",
       "      <td>1.000000</td>\n",
       "      <td>0.113910</td>\n",
       "      <td>-0.248287</td>\n",
       "      <td>0.141641</td>\n",
       "      <td>0.126832</td>\n",
       "      <td>0.078979</td>\n",
       "      <td>0.262559</td>\n",
       "      <td>0.012126</td>\n",
       "      <td>0.256899</td>\n",
       "    </tr>\n",
       "    <tr>\n",
       "      <th>p3</th>\n",
       "      <td>0.619757</td>\n",
       "      <td>0.113910</td>\n",
       "      <td>1.000000</td>\n",
       "      <td>-0.620411</td>\n",
       "      <td>0.309102</td>\n",
       "      <td>0.320015</td>\n",
       "      <td>0.382502</td>\n",
       "      <td>0.607829</td>\n",
       "      <td>0.249586</td>\n",
       "      <td>0.606912</td>\n",
       "    </tr>\n",
       "    <tr>\n",
       "      <th>p4</th>\n",
       "      <td>-0.999524</td>\n",
       "      <td>-0.248287</td>\n",
       "      <td>-0.620411</td>\n",
       "      <td>1.000000</td>\n",
       "      <td>-0.586430</td>\n",
       "      <td>-0.432828</td>\n",
       "      <td>-0.579732</td>\n",
       "      <td>-0.968715</td>\n",
       "      <td>-0.463727</td>\n",
       "      <td>-0.945416</td>\n",
       "    </tr>\n",
       "    <tr>\n",
       "      <th>p5</th>\n",
       "      <td>0.587943</td>\n",
       "      <td>0.141641</td>\n",
       "      <td>0.309102</td>\n",
       "      <td>-0.586430</td>\n",
       "      <td>1.000000</td>\n",
       "      <td>0.155944</td>\n",
       "      <td>0.297214</td>\n",
       "      <td>0.571159</td>\n",
       "      <td>0.269545</td>\n",
       "      <td>0.537990</td>\n",
       "    </tr>\n",
       "    <tr>\n",
       "      <th>p6</th>\n",
       "      <td>0.433063</td>\n",
       "      <td>0.126832</td>\n",
       "      <td>0.320015</td>\n",
       "      <td>-0.432828</td>\n",
       "      <td>0.155944</td>\n",
       "      <td>1.000000</td>\n",
       "      <td>0.313817</td>\n",
       "      <td>0.411173</td>\n",
       "      <td>0.255341</td>\n",
       "      <td>0.422155</td>\n",
       "    </tr>\n",
       "    <tr>\n",
       "      <th>p7</th>\n",
       "      <td>0.577808</td>\n",
       "      <td>0.078979</td>\n",
       "      <td>0.382502</td>\n",
       "      <td>-0.579732</td>\n",
       "      <td>0.297214</td>\n",
       "      <td>0.313817</td>\n",
       "      <td>1.000000</td>\n",
       "      <td>0.573135</td>\n",
       "      <td>0.286736</td>\n",
       "      <td>0.559694</td>\n",
       "    </tr>\n",
       "    <tr>\n",
       "      <th>p8</th>\n",
       "      <td>0.967058</td>\n",
       "      <td>0.262559</td>\n",
       "      <td>0.607829</td>\n",
       "      <td>-0.968715</td>\n",
       "      <td>0.571159</td>\n",
       "      <td>0.411173</td>\n",
       "      <td>0.573135</td>\n",
       "      <td>1.000000</td>\n",
       "      <td>0.433534</td>\n",
       "      <td>0.911911</td>\n",
       "    </tr>\n",
       "    <tr>\n",
       "      <th>p9</th>\n",
       "      <td>0.466873</td>\n",
       "      <td>0.012126</td>\n",
       "      <td>0.249586</td>\n",
       "      <td>-0.463727</td>\n",
       "      <td>0.269545</td>\n",
       "      <td>0.255341</td>\n",
       "      <td>0.286736</td>\n",
       "      <td>0.433534</td>\n",
       "      <td>1.000000</td>\n",
       "      <td>0.453852</td>\n",
       "    </tr>\n",
       "    <tr>\n",
       "      <th>p10</th>\n",
       "      <td>0.945575</td>\n",
       "      <td>0.256899</td>\n",
       "      <td>0.606912</td>\n",
       "      <td>-0.945416</td>\n",
       "      <td>0.537990</td>\n",
       "      <td>0.422155</td>\n",
       "      <td>0.559694</td>\n",
       "      <td>0.911911</td>\n",
       "      <td>0.453852</td>\n",
       "      <td>1.000000</td>\n",
       "    </tr>\n",
       "  </tbody>\n",
       "</table>\n",
       "</div>"
      ],
      "text/plain": [
       "           p1        p2        p3        p4        p5        p6        p7  \\\n",
       "p1   1.000000  0.249489  0.619757 -0.999524  0.587943  0.433063  0.577808   \n",
       "p2   0.249489  1.000000  0.113910 -0.248287  0.141641  0.126832  0.078979   \n",
       "p3   0.619757  0.113910  1.000000 -0.620411  0.309102  0.320015  0.382502   \n",
       "p4  -0.999524 -0.248287 -0.620411  1.000000 -0.586430 -0.432828 -0.579732   \n",
       "p5   0.587943  0.141641  0.309102 -0.586430  1.000000  0.155944  0.297214   \n",
       "p6   0.433063  0.126832  0.320015 -0.432828  0.155944  1.000000  0.313817   \n",
       "p7   0.577808  0.078979  0.382502 -0.579732  0.297214  0.313817  1.000000   \n",
       "p8   0.967058  0.262559  0.607829 -0.968715  0.571159  0.411173  0.573135   \n",
       "p9   0.466873  0.012126  0.249586 -0.463727  0.269545  0.255341  0.286736   \n",
       "p10  0.945575  0.256899  0.606912 -0.945416  0.537990  0.422155  0.559694   \n",
       "\n",
       "           p8        p9       p10  \n",
       "p1   0.967058  0.466873  0.945575  \n",
       "p2   0.262559  0.012126  0.256899  \n",
       "p3   0.607829  0.249586  0.606912  \n",
       "p4  -0.968715 -0.463727 -0.945416  \n",
       "p5   0.571159  0.269545  0.537990  \n",
       "p6   0.411173  0.255341  0.422155  \n",
       "p7   0.573135  0.286736  0.559694  \n",
       "p8   1.000000  0.433534  0.911911  \n",
       "p9   0.433534  1.000000  0.453852  \n",
       "p10  0.911911  0.453852  1.000000  "
      ]
     },
     "execution_count": 34,
     "metadata": {},
     "output_type": "execute_result"
    }
   ],
   "source": [
    "features.corr()"
   ]
  },
  {
   "cell_type": "code",
   "execution_count": null,
   "metadata": {},
   "outputs": [],
   "source": [
    "#http://www.tylervigen.com/spurious-correlations - примеров мистических корреляций"
   ]
  },
  {
   "cell_type": "code",
   "execution_count": 35,
   "metadata": {},
   "outputs": [],
   "source": [
    "import matplotlib.pyplot as plt\n",
    "import seaborn as sns"
   ]
  },
  {
   "cell_type": "code",
   "execution_count": 46,
   "metadata": {},
   "outputs": [
    {
     "data": {
      "text/plain": [
       "<matplotlib.axes._subplots.AxesSubplot at 0x21a7a8b9708>"
      ]
     },
     "execution_count": 46,
     "metadata": {},
     "output_type": "execute_result"
    },
    {
     "data": {
      "image/png": "[encoded data removed]",
      "text/plain": [
       "<Figure size 648x432 with 2 Axes>"
      ]
     },
     "metadata": {
      "needs_background": "light"
     },
     "output_type": "display_data"
    }
   ],
   "source": [
    "f, ax = plt.subplots(figsize=(9,6))\n",
    "sns.heatmap(features.corr(), annot=True, fmt='.1f', ax=ax, cmap=sns.color_palette('coolwarm',5))\n",
    "# annot - подписи данных\n",
    "# fmp - формат подписи\n",
    "# cmap - цветовая палитра http://seaborn.pydata.org/tutorial/color_palettes.html"
   ]
  },
  {
   "cell_type": "code",
   "execution_count": null,
   "metadata": {},
   "outputs": [],
   "source": [
    "# темно-красные и синие сильно коррелируют"
   ]
  },
  {
   "cell_type": "markdown",
   "metadata": {},
   "source": [
    "# UNIT 5"
   ]
  },
  {
   "cell_type": "markdown",
   "metadata": {},
   "source": [
    "## Plotpy"
   ]
  },
  {
   "cell_type": "code",
   "execution_count": 6,
   "metadata": {},
   "outputs": [
    {
     "ename": "ModuleNotFoundError",
     "evalue": "No module named 'plotly'",
     "output_type": "error",
     "traceback": [
      "\u001b[1;31m---------------------------------------------------------------------------\u001b[0m",
      "\u001b[1;31mModuleNotFoundError\u001b[0m                       Traceback (most recent call last)",
      "\u001b[1;32m<ipython-input-6-8e185a532be7>\u001b[0m in \u001b[0;36m<module>\u001b[1;34m\u001b[0m\n\u001b[0;32m      1\u001b[0m \u001b[1;31m#https://plotly.com/python/custom-buttons/\u001b[0m\u001b[1;33m\u001b[0m\u001b[1;33m\u001b[0m\u001b[1;33m\u001b[0m\u001b[0m\n\u001b[1;32m----> 2\u001b[1;33m \u001b[1;32mimport\u001b[0m \u001b[0mplotly\u001b[0m\u001b[1;33m\u001b[0m\u001b[1;33m\u001b[0m\u001b[0m\n\u001b[0m",
      "\u001b[1;31mModuleNotFoundError\u001b[0m: No module named 'plotly'"
     ]
    }
   ],
   "source": [
    "#https://plotly.com/python/custom-buttons/\n",
    "import plotly"
   ]
  },
  {
   "cell_type": "code",
   "execution_count": null,
   "metadata": {},
   "outputs": [],
   "source": [
    "#tocken"
   ]
  },
  {
   "cell_type": "code",
   "execution_count": null,
   "metadata": {},
   "outputs": [],
   "source": [
    "import padas as pd\n",
    "data = pd.read_csv('sales_data.csv', sep = ';')\n"
   ]
  },
  {
   "cell_type": "code",
   "execution_count": null,
   "metadata": {},
   "outputs": [],
   "source": [
    "import plotly\n",
    "plotly.tools.set_credentials_file(username='...', api_key='...')"
   ]
  },
  {
   "cell_type": "code",
   "execution_count": null,
   "metadata": {},
   "outputs": [],
   "source": [
    "#https://plotly.com/python/ - галерее примеров\n",
    "import plotly.plotly as py\n",
    "import plotly.graph_objs as go\n",
    "\n",
    "trace = go.Table(\n",
    "    header=dict(values=list(data.columns),\n",
    "               fill = dict(color='#C2D4FF'),\n",
    "               align = ['left', 'right', 'right', 'right']),\n",
    "    cells=dict(values=[data['month'], data['2016'], data['2017'], data['2018']],\n",
    "               fill = dict(color='#F5F8FF'),\n",
    "               align = ['left'] + ['right']*3))\n",
    "py.iplot([trace], filename = 'pandas_table')\n",
    "# fill - цвет заливки\n",
    "# align - выравнивание столбцов"
   ]
  }
 ],
 "metadata": {
  "kernelspec": {
   "display_name": "Python 3",
   "language": "python",
   "name": "python3"
  },
  "language_info": {
   "codemirror_mode": {
    "name": "ipython",
    "version": 3
   },
   "file_extension": ".py",
   "mimetype": "text/x-python",
   "name": "python",
   "nbconvert_exporter": "python",
   "pygments_lexer": "ipython3",
   "version": "3.7.6"
  }
 },
 "nbformat": 4,
 "nbformat_minor": 4
}
