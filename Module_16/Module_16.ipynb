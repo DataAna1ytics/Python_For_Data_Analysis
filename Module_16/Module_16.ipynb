{
 "cells": [
  {
   "cell_type": "markdown",
   "metadata": {},
   "source": [
    "# UNIT 1"
   ]
  },
  {
   "cell_type": "markdown",
   "metadata": {},
   "source": [
    "# Обработка естественного текста и регулярные выражения\n"
   ]
  },
  {
   "cell_type": "markdown",
   "metadata": {},
   "source": [
    "# UNIT 1"
   ]
  },
  {
   "cell_type": "markdown",
   "metadata": {},
   "source": [
    "## Регулярные выражения "
   ]
  },
  {
   "cell_type": "code",
   "execution_count": 2,
   "metadata": {},
   "outputs": [
    {
     "name": "stdout",
     "output_type": "stream",
     "text": [
      "Иван Кожедуб 2018-01-15T15:03:18 1234567890123456\n",
      "Людмила Павличенко 2018-01-15T15:03:22 2234567890123456\n",
      "Александр Покрышки 2018-01-15T15:03:34 3234567890123456\n"
     ]
    }
   ],
   "source": [
    "text = 'Иван Кожедуб 2018-01-15T15:03:18 1234567890123456\\nЛюдмила Павличенко 2018-01-15T15:03:22 2234567890123456\\nАлександр Покрышки 2018-01-15T15:03:34 3234567890123456'\n",
    "print(text)"
   ]
  },
  {
   "cell_type": "code",
   "execution_count": 3,
   "metadata": {},
   "outputs": [],
   "source": [
    "import re\n",
    "\n",
    "pattern = '\\d{16}'\n",
    "prog = re.compile(pattern)"
   ]
  },
  {
   "cell_type": "code",
   "execution_count": 6,
   "metadata": {},
   "outputs": [
    {
     "data": {
      "text/plain": [
       "['1234567890123456', '2234567890123456', '3234567890123456']"
      ]
     },
     "execution_count": 6,
     "metadata": {},
     "output_type": "execute_result"
    }
   ],
   "source": [
    "re.findall(pattern, text)"
   ]
  },
  {
   "cell_type": "markdown",
   "metadata": {},
   "source": [
    "## Классификатор отзывов"
   ]
  },
  {
   "cell_type": "code",
   "execution_count": 9,
   "metadata": {},
   "outputs": [],
   "source": [
    "from nltk.stem import SnowballStemmer\n",
    "snowball_stemmer = SnowballStemmer(\"russian\")"
   ]
  },
  {
   "cell_type": "code",
   "execution_count": 10,
   "metadata": {},
   "outputs": [
    {
     "data": {
      "text/plain": [
       "'великолепн'"
      ]
     },
     "execution_count": 10,
     "metadata": {},
     "output_type": "execute_result"
    }
   ],
   "source": [
    "snowball_stemmer.stem('великолепный')"
   ]
  },
  {
   "cell_type": "code",
   "execution_count": 14,
   "metadata": {},
   "outputs": [
    {
     "data": {
      "text/plain": [
       "'подоконник'"
      ]
     },
     "execution_count": 14,
     "metadata": {},
     "output_type": "execute_result"
    }
   ],
   "source": [
    "snowball_stemmer.stem('подоконников')"
   ]
  },
  {
   "cell_type": "code",
   "execution_count": 42,
   "metadata": {},
   "outputs": [],
   "source": [
    "# СОЗДАЮ ФАЙЛ YAML\n",
    "import yaml\n",
    "\n",
    "dict_file = [{'positive': ['понрав','чудесн','качественн'], 'negative': ['ужасно','плохо']}]\n",
    "\n",
    "with open('params.yaml', 'w') as file:\n",
    "    docs = yaml.dump(dict_file, file)"
   ]
  },
  {
   "cell_type": "code",
   "execution_count": 43,
   "metadata": {},
   "outputs": [
    {
     "name": "stdout",
     "output_type": "stream",
     "text": [
      "{'negative': ['ужасно', 'плохо'], 'positive': ['понрав', 'чудесн', 'качественн']}\n"
     ]
    }
   ],
   "source": [
    "with open('params.yaml') as file:\n",
    "    documents = yaml.full_load(file)\n",
    "    \n",
    "    print(documents[0])"
   ]
  },
  {
   "cell_type": "code",
   "execution_count": 29,
   "metadata": {},
   "outputs": [
    {
     "name": "stderr",
     "output_type": "stream",
     "text": [
      "C:\\Program Files\\Anaconda\\lib\\site-packages\\ipykernel_launcher.py:2: YAMLLoadWarning: calling yaml.load() without Loader=... is deprecated, as the default Loader is unsafe. Please read https://msg.pyyaml.org/load for full details.\n",
      "  \n"
     ]
    }
   ],
   "source": [
    "#from yaml import load\n",
    "#params = load( open('params.yaml', mode='r', encoding='utf-8'))\n",
    "\n"
   ]
  },
  {
   "cell_type": "code",
   "execution_count": 44,
   "metadata": {},
   "outputs": [],
   "source": [
    "params = documents[0]"
   ]
  },
  {
   "cell_type": "code",
   "execution_count": 35,
   "metadata": {},
   "outputs": [
    {
     "data": {
      "text/plain": [
       "['понравился', 'чудесн', 'качественн']"
      ]
     },
     "execution_count": 35,
     "metadata": {},
     "output_type": "execute_result"
    }
   ],
   "source": [
    "params['positive']"
   ]
  },
  {
   "cell_type": "code",
   "execution_count": 32,
   "metadata": {},
   "outputs": [],
   "source": [
    "def clear_punctuation(text):\n",
    "    \"\"\"\n",
    "    Удаление знаков пунктуации из текста text\n",
    "    \"\"\"\n",
    "    \n",
    "    symbols = '.,!()\"<>'\n",
    "    spaces = ' '*len(symbols)\n",
    "    \n",
    "    return text.translate( text.maketrans(symbols, spaces))"
   ]
  },
  {
   "cell_type": "code",
   "execution_count": 45,
   "metadata": {},
   "outputs": [],
   "source": [
    "def classifier(text):\n",
    "    \"\"\"\n",
    "    Классификация отзыва text на 'positive', 'negative', 'undef' по совпадению основ из params.yaml\n",
    "    \"\"\"\n",
    "    text = clear_punctuation(text)\n",
    "    \n",
    "    positive_words_count = len( [x for x in text.split(' ') if snowball_stemmer.stem(x) in params['positive']])\n",
    "    for x in text.split(' '):\n",
    "        print(x)\n",
    "        print(snowball_stemmer.stem(x))\n",
    "    negative_words_count = len( [x for x in text.split(' ') if snowball_stemmer.stem(x) in params['negative']])\n",
    "    \n",
    "    if positive_words_count > negative_words_count:\n",
    "        return 'positive'\n",
    "    elif positive_words_count < negative_words_count:\n",
    "        return 'negative'\n",
    "    \n",
    "    return 'undef'"
   ]
  },
  {
   "cell_type": "code",
   "execution_count": 46,
   "metadata": {},
   "outputs": [
    {
     "name": "stdout",
     "output_type": "stream",
     "text": [
      "Интерьер\n",
      "интерьер\n",
      "понравился\n",
      "понрав\n"
     ]
    },
    {
     "data": {
      "text/plain": [
       "'positive'"
      ]
     },
     "execution_count": 46,
     "metadata": {},
     "output_type": "execute_result"
    }
   ],
   "source": [
    "classifier('Интерьер понравился')"
   ]
  },
  {
   "cell_type": "markdown",
   "metadata": {},
   "source": [
    " Работа с естественным текстом\n",
    "\n",
    " В прошлых блоках мы сравнивали числа и строки между собой самым простым образом они либо в точности совпадали, либо нет. \n",
    " При работе с реальными текстами это доставит нам много проблем, т. к. в большинстве случаев слова пишутся в разных падежах и склонениях. \n",
    "Например, чтобы понять, близки ли описания товаров на сайте между собой, уже недостаточно просто найти общие слова. \n",
    " В этом модуле мы научимся:\n",
    "    Получать основу и словарную форму слова (процедура стемминга и лемматизации). Это позволит принципиально улучшить любые сравнения и вычисления, связанные с анализом текстов. Например, поиск дубликатов описаний товаров.\n",
    "    Строить статистику уникальных слов в наборе поисковых запросов с учетом падежей и склонений. При этом мы будем исключать из результатов так называемые стоп-слова (союзы, предлоги и другие лишние слова)."
   ]
  },
  {
   "cell_type": "code",
   "execution_count": null,
   "metadata": {},
   "outputs": [],
   "source": [
    "# Основные библиотеки\n",
    "\n",
    "# В этом блоке мы рассмотрим примеры работы трех библиотек для решения так называемых задач обработки естественного языка, а также решим задачу подсчета слов в наборе поисковых запросов с учетов падежей и склонений\n",
    "# Библиотека Pymystem (https://pypi.python.org/pypi/pymystem3) считается одной из лучших для преобразования слов в словарную форму. Разработана в Яндексе, умеет работать с несуществующими словами. Недостаток — самая медленная из рассматриваемых.\n"
   ]
  },
  {
   "cell_type": "code",
   "execution_count": 48,
   "metadata": {},
   "outputs": [
    {
     "name": "stderr",
     "output_type": "stream",
     "text": [
      "ERROR: Exception:\n",
      "Traceback (most recent call last):\n",
      "  File \"C:\\Program Files\\Anaconda\\lib\\site-packages\\pip\\_internal\\cli\\base_command.py\", line 186, in _main\n",
      "    status = self.run(options, args)\n",
      "  File \"C:\\Program Files\\Anaconda\\lib\\site-packages\\pip\\_internal\\commands\\install.py\", line 258, in run\n",
      "    isolated_mode=options.isolated_mode,\n",
      "  File \"C:\\Program Files\\Anaconda\\lib\\site-packages\\pip\\_internal\\commands\\install.py\", line 604, in decide_user_install\n",
      "    if site_packages_writable(root=root_path, isolated=isolated_mode):\n",
      "  File \"C:\\Program Files\\Anaconda\\lib\\site-packages\\pip\\_internal\\commands\\install.py\", line 549, in site_packages_writable\n",
      "    test_writable_dir(d) for d in set(get_lib_location_guesses(**kwargs))\n",
      "  File \"C:\\Program Files\\Anaconda\\lib\\site-packages\\pip\\_internal\\commands\\install.py\", line 549, in <genexpr>\n",
      "    test_writable_dir(d) for d in set(get_lib_location_guesses(**kwargs))\n",
      "  File \"C:\\Program Files\\Anaconda\\lib\\site-packages\\pip\\_internal\\utils\\filesystem.py\", line 140, in test_writable_dir\n",
      "    return _test_writable_dir_win(path)\n",
      "  File \"C:\\Program Files\\Anaconda\\lib\\site-packages\\pip\\_internal\\utils\\filesystem.py\", line 153, in _test_writable_dir_win\n",
      "    fd = os.open(file, os.O_RDWR | os.O_CREAT | os.O_EXCL)\n",
      "PermissionError: [Errno 13] Permission denied: 'C:\\\\Program Files\\\\Anaconda\\\\Lib\\\\site-packages\\\\accesstest_deleteme_fishfingers_custard_kzup5z'\n"
     ]
    }
   ],
   "source": [
    "# Установка\n",
    "# Библиотека Pymystem по умолчанию не установлена в Anaconda. Для установки воспользуемся следующей командой:\n",
    "!pip install pymystem3"
   ]
  },
  {
   "cell_type": "code",
   "execution_count": 49,
   "metadata": {},
   "outputs": [
    {
     "name": "stderr",
     "output_type": "stream",
     "text": [
      "ERROR: Exception:\n",
      "Traceback (most recent call last):\n",
      "  File \"C:\\Program Files\\Anaconda\\lib\\site-packages\\pip\\_internal\\cli\\base_command.py\", line 186, in _main\n",
      "    status = self.run(options, args)\n",
      "  File \"C:\\Program Files\\Anaconda\\lib\\site-packages\\pip\\_internal\\commands\\install.py\", line 258, in run\n",
      "    isolated_mode=options.isolated_mode,\n",
      "  File \"C:\\Program Files\\Anaconda\\lib\\site-packages\\pip\\_internal\\commands\\install.py\", line 604, in decide_user_install\n",
      "    if site_packages_writable(root=root_path, isolated=isolated_mode):\n",
      "  File \"C:\\Program Files\\Anaconda\\lib\\site-packages\\pip\\_internal\\commands\\install.py\", line 549, in site_packages_writable\n",
      "    test_writable_dir(d) for d in set(get_lib_location_guesses(**kwargs))\n",
      "  File \"C:\\Program Files\\Anaconda\\lib\\site-packages\\pip\\_internal\\commands\\install.py\", line 549, in <genexpr>\n",
      "    test_writable_dir(d) for d in set(get_lib_location_guesses(**kwargs))\n",
      "  File \"C:\\Program Files\\Anaconda\\lib\\site-packages\\pip\\_internal\\utils\\filesystem.py\", line 140, in test_writable_dir\n",
      "    return _test_writable_dir_win(path)\n",
      "  File \"C:\\Program Files\\Anaconda\\lib\\site-packages\\pip\\_internal\\utils\\filesystem.py\", line 153, in _test_writable_dir_win\n",
      "    fd = os.open(file, os.O_RDWR | os.O_CREAT | os.O_EXCL)\n",
      "PermissionError: [Errno 13] Permission denied: 'C:\\\\Program Files\\\\Anaconda\\\\Lib\\\\site-packages\\\\accesstest_deleteme_fishfingers_custard_rprr92'\n"
     ]
    }
   ],
   "source": [
    "! pip install plotly==4.8.1"
   ]
  },
  {
   "cell_type": "code",
   "execution_count": 50,
   "metadata": {},
   "outputs": [
    {
     "name": "stderr",
     "output_type": "stream",
     "text": [
      "ERROR: Exception:\n",
      "Traceback (most recent call last):\n",
      "  File \"C:\\Program Files\\Anaconda\\lib\\site-packages\\pip\\_internal\\cli\\base_command.py\", line 186, in _main\n",
      "    status = self.run(options, args)\n",
      "  File \"C:\\Program Files\\Anaconda\\lib\\site-packages\\pip\\_internal\\commands\\install.py\", line 258, in run\n",
      "    isolated_mode=options.isolated_mode,\n",
      "  File \"C:\\Program Files\\Anaconda\\lib\\site-packages\\pip\\_internal\\commands\\install.py\", line 604, in decide_user_install\n",
      "    if site_packages_writable(root=root_path, isolated=isolated_mode):\n",
      "  File \"C:\\Program Files\\Anaconda\\lib\\site-packages\\pip\\_internal\\commands\\install.py\", line 549, in site_packages_writable\n",
      "    test_writable_dir(d) for d in set(get_lib_location_guesses(**kwargs))\n",
      "  File \"C:\\Program Files\\Anaconda\\lib\\site-packages\\pip\\_internal\\commands\\install.py\", line 549, in <genexpr>\n",
      "    test_writable_dir(d) for d in set(get_lib_location_guesses(**kwargs))\n",
      "  File \"C:\\Program Files\\Anaconda\\lib\\site-packages\\pip\\_internal\\utils\\filesystem.py\", line 140, in test_writable_dir\n",
      "    return _test_writable_dir_win(path)\n",
      "  File \"C:\\Program Files\\Anaconda\\lib\\site-packages\\pip\\_internal\\utils\\filesystem.py\", line 153, in _test_writable_dir_win\n",
      "    fd = os.open(file, os.O_RDWR | os.O_CREAT | os.O_EXCL)\n",
      "PermissionError: [Errno 13] Permission denied: 'C:\\\\Program Files\\\\Anaconda\\\\Lib\\\\site-packages\\\\accesstest_deleteme_fishfingers_custard_e8dxml'\n"
     ]
    }
   ],
   "source": [
    "!pip install -U pip"
   ]
  },
  {
   "cell_type": "code",
   "execution_count": 51,
   "metadata": {},
   "outputs": [
    {
     "name": "stderr",
     "output_type": "stream",
     "text": [
      "ERROR: Could not open requirements file: [Errno 2] No such file or directory: 'requirements.txt'\n"
     ]
    }
   ],
   "source": [
    "!pip install --user -r requirements.txt"
   ]
  },
  {
   "cell_type": "code",
   "execution_count": null,
   "metadata": {},
   "outputs": [],
   "source": []
  }
 ],
 "metadata": {
  "kernelspec": {
   "display_name": "Python 3",
   "language": "python",
   "name": "python3"
  },
  "language_info": {
   "codemirror_mode": {
    "name": "ipython",
    "version": 3
   },
   "file_extension": ".py",
   "mimetype": "text/x-python",
   "name": "python",
   "nbconvert_exporter": "python",
   "pygments_lexer": "ipython3",
   "version": "3.7.6"
  }
 },
 "nbformat": 4,
 "nbformat_minor": 4
}
